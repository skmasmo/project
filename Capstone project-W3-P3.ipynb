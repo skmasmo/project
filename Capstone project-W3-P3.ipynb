{
 "cells": [
  {
   "cell_type": "markdown",
   "metadata": {},
   "source": [
    "# Capstone project-W3-Part3 #"
   ]
  },
  {
   "cell_type": "markdown",
   "metadata": {},
   "source": [
    "In Part 1 of this project, we collected the Toronto neighborhoods data from a web page, converted it to a pandas dataframe, and cleaned and pre-processed it.  \n",
    "\n",
    "In Part 2, we collected the latitude and logitude of each neighborhood and added it to our dataframe so that we can utilize the Foursquare location data.  \n",
    "\n",
    "In this final part, we will explore and cluster the neighborhoods in Toronto."
   ]
  },
  {
   "cell_type": "markdown",
   "metadata": {},
   "source": [
    "### Install required packages"
   ]
  },
  {
   "cell_type": "code",
   "execution_count": 6,
   "metadata": {},
   "outputs": [
    {
     "name": "stdout",
     "output_type": "stream",
     "text": [
      "Requirement already satisfied: pandas in /opt/conda/envs/py3.6/lib/python3.6/site-packages (0.20.3)\n",
      "Requirement already satisfied: python-dateutil>=2 in /opt/conda/envs/py3.6/lib/python3.6/site-packages (from pandas) (2.7.3)\n",
      "Requirement already satisfied: pytz>=2011k in /opt/conda/envs/py3.6/lib/python3.6/site-packages (from pandas) (2018.4)\n",
      "Requirement already satisfied: numpy>=1.7.0 in /opt/conda/envs/py3.6/lib/python3.6/site-packages (from pandas) (1.12.1)\n",
      "Requirement already satisfied: six>=1.5 in /opt/conda/envs/py3.6/lib/python3.6/site-packages (from python-dateutil>=2->pandas) (1.11.0)\n",
      "\u001b[31mjupyter 1.0.0 requires qtconsole, which is not installed.\u001b[0m\n",
      "\u001b[31mipywidgets 7.0.3 has requirement widgetsnbextension~=3.0.0, but you'll have widgetsnbextension 3.2.1 which is incompatible.\u001b[0m\n",
      "\u001b[33mYou are using pip version 10.0.1, however version 19.3.1 is available.\n",
      "You should consider upgrading via the 'pip install --upgrade pip' command.\u001b[0m\n",
      "Collecting beautifulsoup4\n",
      "\u001b[?25l  Downloading https://files.pythonhosted.org/packages/3b/c8/a55eb6ea11cd7e5ac4bacdf92bac4693b90d3ba79268be16527555e186f0/beautifulsoup4-4.8.1-py3-none-any.whl (101kB)\n",
      "\u001b[K    100% |################################| 102kB 7.7MB/s a 0:00:011\n",
      "\u001b[?25hCollecting soupsieve>=1.2 (from beautifulsoup4)\n",
      "  Downloading https://files.pythonhosted.org/packages/5d/42/d821581cf568e9b7dfc5b415aa61952b0f5e3dede4f3cbd650e3a1082992/soupsieve-1.9.4-py2.py3-none-any.whl\n",
      "\u001b[31mjupyter 1.0.0 requires qtconsole, which is not installed.\u001b[0m\n",
      "\u001b[31mipywidgets 7.0.3 has requirement widgetsnbextension~=3.0.0, but you'll have widgetsnbextension 3.2.1 which is incompatible.\u001b[0m\n",
      "Installing collected packages: soupsieve, beautifulsoup4\n",
      "Successfully installed beautifulsoup4-4.8.1 soupsieve-1.9.4\n",
      "\u001b[33mYou are using pip version 10.0.1, however version 19.3.1 is available.\n",
      "You should consider upgrading via the 'pip install --upgrade pip' command.\u001b[0m\n",
      "Requirement already satisfied: requests in /opt/conda/envs/py3.6/lib/python3.6/site-packages (2.18.4)\n",
      "Requirement already satisfied: chardet<3.1.0,>=3.0.2 in /opt/conda/envs/py3.6/lib/python3.6/site-packages (from requests) (3.0.4)\n",
      "Requirement already satisfied: idna<2.7,>=2.5 in /opt/conda/envs/py3.6/lib/python3.6/site-packages (from requests) (2.6)\n",
      "Requirement already satisfied: urllib3<1.23,>=1.21.1 in /opt/conda/envs/py3.6/lib/python3.6/site-packages (from requests) (1.22)\n",
      "Requirement already satisfied: certifi>=2017.4.17 in /opt/conda/envs/py3.6/lib/python3.6/site-packages (from requests) (2018.4.16)\n",
      "\u001b[31mjupyter 1.0.0 requires qtconsole, which is not installed.\u001b[0m\n",
      "\u001b[31mipywidgets 7.0.3 has requirement widgetsnbextension~=3.0.0, but you'll have widgetsnbextension 3.2.1 which is incompatible.\u001b[0m\n",
      "\u001b[33mYou are using pip version 10.0.1, however version 19.3.1 is available.\n",
      "You should consider upgrading via the 'pip install --upgrade pip' command.\u001b[0m\n",
      "Collecting geopy\n",
      "\u001b[?25l  Downloading https://files.pythonhosted.org/packages/80/93/d384479da0ead712bdaf697a8399c13a9a89bd856ada5a27d462fb45e47b/geopy-1.20.0-py2.py3-none-any.whl (100kB)\n",
      "\u001b[K    100% |################################| 102kB 8.0MB/s a 0:00:011\n",
      "\u001b[?25hCollecting geographiclib<2,>=1.49 (from geopy)\n",
      "  Downloading https://files.pythonhosted.org/packages/8b/62/26ec95a98ba64299163199e95ad1b0e34ad3f4e176e221c40245f211e425/geographiclib-1.50-py3-none-any.whl\n",
      "\u001b[31mjupyter 1.0.0 requires qtconsole, which is not installed.\u001b[0m\n",
      "\u001b[31mipywidgets 7.0.3 has requirement widgetsnbextension~=3.0.0, but you'll have widgetsnbextension 3.2.1 which is incompatible.\u001b[0m\n",
      "Installing collected packages: geographiclib, geopy\n",
      "Successfully installed geographiclib-1.50 geopy-1.20.0\n",
      "\u001b[33mYou are using pip version 10.0.1, however version 19.3.1 is available.\n",
      "You should consider upgrading via the 'pip install --upgrade pip' command.\u001b[0m\n",
      "Collecting sklearn\n",
      "  Downloading https://files.pythonhosted.org/packages/1e/7a/dbb3be0ce9bd5c8b7e3d87328e79063f8b263b2b1bfa4774cb1147bfcd3f/sklearn-0.0.tar.gz\n",
      "Requirement already satisfied: scikit-learn in /opt/conda/envs/py3.6/lib/python3.6/site-packages (from sklearn) (0.19.0)\n",
      "Building wheels for collected packages: sklearn\n",
      "  Running setup.py bdist_wheel for sklearn ... \u001b[?25ldone\n",
      "\u001b[?25h  Stored in directory: /home/jovyan/.cache/pip/wheels/76/03/bb/589d421d27431bcd2c6da284d5f2286c8e3b2ea3cf1594c074\n",
      "Successfully built sklearn\n",
      "\u001b[31mjupyter 1.0.0 requires qtconsole, which is not installed.\u001b[0m\n",
      "\u001b[31mipywidgets 7.0.3 has requirement widgetsnbextension~=3.0.0, but you'll have widgetsnbextension 3.2.1 which is incompatible.\u001b[0m\n",
      "Installing collected packages: sklearn\n",
      "Successfully installed sklearn-0.0\n",
      "\u001b[33mYou are using pip version 10.0.1, however version 19.3.1 is available.\n",
      "You should consider upgrading via the 'pip install --upgrade pip' command.\u001b[0m\n",
      "Collecting folium\n",
      "\u001b[?25l  Downloading https://files.pythonhosted.org/packages/72/ff/004bfe344150a064e558cb2aedeaa02ecbf75e60e148a55a9198f0c41765/folium-0.10.0-py2.py3-none-any.whl (91kB)\n",
      "\u001b[K    100% |################################| 92kB 8.3MB/s ta 0:00:011\n",
      "\u001b[?25hCollecting branca>=0.3.0 (from folium)\n",
      "  Downloading https://files.pythonhosted.org/packages/63/36/1c93318e9653f4e414a2e0c3b98fc898b4970e939afeedeee6075dd3b703/branca-0.3.1-py3-none-any.whl\n",
      "Requirement already satisfied: numpy in /opt/conda/envs/py3.6/lib/python3.6/site-packages (from folium) (1.12.1)\n",
      "Requirement already satisfied: jinja2>=2.9 in /opt/conda/envs/py3.6/lib/python3.6/site-packages (from folium) (2.10)\n",
      "Requirement already satisfied: requests in /opt/conda/envs/py3.6/lib/python3.6/site-packages (from folium) (2.18.4)\n",
      "Requirement already satisfied: six in /opt/conda/envs/py3.6/lib/python3.6/site-packages (from branca>=0.3.0->folium) (1.11.0)\n",
      "Requirement already satisfied: MarkupSafe>=0.23 in /opt/conda/envs/py3.6/lib/python3.6/site-packages (from jinja2>=2.9->folium) (1.0)\n",
      "Requirement already satisfied: chardet<3.1.0,>=3.0.2 in /opt/conda/envs/py3.6/lib/python3.6/site-packages (from requests->folium) (3.0.4)\n",
      "Requirement already satisfied: idna<2.7,>=2.5 in /opt/conda/envs/py3.6/lib/python3.6/site-packages (from requests->folium) (2.6)\n",
      "Requirement already satisfied: urllib3<1.23,>=1.21.1 in /opt/conda/envs/py3.6/lib/python3.6/site-packages (from requests->folium) (1.22)\n",
      "Requirement already satisfied: certifi>=2017.4.17 in /opt/conda/envs/py3.6/lib/python3.6/site-packages (from requests->folium) (2018.4.16)\n",
      "\u001b[31mjupyter 1.0.0 requires qtconsole, which is not installed.\u001b[0m\n",
      "\u001b[31mipywidgets 7.0.3 has requirement widgetsnbextension~=3.0.0, but you'll have widgetsnbextension 3.2.1 which is incompatible.\u001b[0m\n",
      "Installing collected packages: branca, folium\n",
      "Successfully installed branca-0.3.1 folium-0.10.0\n",
      "\u001b[33mYou are using pip version 10.0.1, however version 19.3.1 is available.\n",
      "You should consider upgrading via the 'pip install --upgrade pip' command.\u001b[0m\n",
      "Requirement already satisfied: matplotlib in /opt/conda/envs/py3.6/lib/python3.6/site-packages (2.1.2)\n",
      "Requirement already satisfied: numpy>=1.7.1 in /opt/conda/envs/py3.6/lib/python3.6/site-packages (from matplotlib) (1.12.1)\n",
      "Requirement already satisfied: six>=1.10 in /opt/conda/envs/py3.6/lib/python3.6/site-packages (from matplotlib) (1.11.0)\n",
      "Requirement already satisfied: python-dateutil>=2.1 in /opt/conda/envs/py3.6/lib/python3.6/site-packages (from matplotlib) (2.7.3)\n",
      "Requirement already satisfied: pytz in /opt/conda/envs/py3.6/lib/python3.6/site-packages (from matplotlib) (2018.4)\n",
      "Requirement already satisfied: cycler>=0.10 in /opt/conda/envs/py3.6/lib/python3.6/site-packages (from matplotlib) (0.10.0)\n",
      "Requirement already satisfied: pyparsing!=2.0.4,!=2.1.2,!=2.1.6,>=2.0.1 in /opt/conda/envs/py3.6/lib/python3.6/site-packages (from matplotlib) (2.2.0)\n",
      "\u001b[31mjupyter 1.0.0 requires qtconsole, which is not installed.\u001b[0m\n",
      "\u001b[31mipywidgets 7.0.3 has requirement widgetsnbextension~=3.0.0, but you'll have widgetsnbextension 3.2.1 which is incompatible.\u001b[0m\n",
      "\u001b[33mYou are using pip version 10.0.1, however version 19.3.1 is available.\n",
      "You should consider upgrading via the 'pip install --upgrade pip' command.\u001b[0m\n"
     ]
    }
   ],
   "source": [
    "import sys\n",
    "!{sys.executable} -m pip install pandas\n",
    "!{sys.executable} -m pip install beautifulsoup4\n",
    "!{sys.executable} -m pip install requests\n",
    "!{sys.executable} -m pip install geopy\n",
    "!{sys.executable} -m pip install sklearn\n",
    "!{sys.executable} -m pip install folium\n",
    "!{sys.executable} -m pip install matplotlib"
   ]
  },
  {
   "cell_type": "markdown",
   "metadata": {},
   "source": [
    "### Import dependencies"
   ]
  },
  {
   "cell_type": "code",
   "execution_count": 7,
   "metadata": {},
   "outputs": [],
   "source": [
    "from bs4 import BeautifulSoup\n",
    "from geopy.geocoders import Nominatim\n",
    "from sklearn.cluster import KMeans\n",
    "import requests\n",
    "import pandas as pd\n",
    "from pandas.io.json import json_normalize\n",
    "import numpy as np\n",
    "import folium\n",
    "import matplotlib.cm as cm\n",
    "import matplotlib.colors as colors"
   ]
  },
  {
   "cell_type": "markdown",
   "metadata": {},
   "source": [
    "# P1"
   ]
  },
  {
   "cell_type": "markdown",
   "metadata": {},
   "source": [
    "The data will be collected from Wikipedia page: https://en.wikipedia.org/wiki/List_of_postal_codes_of_Canada:_M  \n",
    "\n",
    "This page contains a list of postal codes in Canada where the first letter is M."
   ]
  },
  {
   "cell_type": "code",
   "execution_count": 8,
   "metadata": {},
   "outputs": [],
   "source": [
    "wiki_url = 'https://en.wikipedia.org/wiki/List_of_postal_codes_of_Canada:_M'\n",
    "html_text = requests.get(wiki_url).text\n",
    "\n",
    "soup = BeautifulSoup(html_text)\n",
    "table = soup.find('table', attrs={'class':'wikitable sortable'})\n",
    "trs = table.find_all('tr')\n",
    "\n",
    "rows = list()\n",
    "for tr in trs:\n",
    "    td = tr.find_all('td')\n",
    "    row = [ele.text.strip() for ele in td]\n",
    "    if row:\n",
    "     \n",
    "        rows.append(row)\n",
    "\n",
    "df = pd.DataFrame(rows,\n",
    "                  columns=['PostalCode', 'Borough', 'Neighborhood'])\n",
    "\n",
    "df = df[df.Borough != 'Not assigned']\n",
    "df.reset_index(inplace=True, drop=True)\n",
    "\n",
    "df['Neighborhood'] = df.apply(\n",
    "    lambda row: \n",
    "    row['Borough'] if row['Neighborhood'] == 'Not assigned' \n",
    "    else row['Neighborhood'],\n",
    "    axis=1)\n",
    "\n",
    "df = df.groupby(['PostalCode', 'Borough'])['Neighborhood'].\\\n",
    "    apply(', '.join).to_frame()\n",
    "df.reset_index(inplace=True)"
   ]
  },
  {
   "cell_type": "code",
   "execution_count": 9,
   "metadata": {},
   "outputs": [
    {
     "data": {
      "text/html": [
       "<div>\n",
       "<style>\n",
       "    .dataframe thead tr:only-child th {\n",
       "        text-align: right;\n",
       "    }\n",
       "\n",
       "    .dataframe thead th {\n",
       "        text-align: left;\n",
       "    }\n",
       "\n",
       "    .dataframe tbody tr th {\n",
       "        vertical-align: top;\n",
       "    }\n",
       "</style>\n",
       "<table border=\"1\" class=\"dataframe\">\n",
       "  <thead>\n",
       "    <tr style=\"text-align: right;\">\n",
       "      <th></th>\n",
       "      <th>PostalCode</th>\n",
       "      <th>Borough</th>\n",
       "      <th>Neighborhood</th>\n",
       "    </tr>\n",
       "  </thead>\n",
       "  <tbody>\n",
       "    <tr>\n",
       "      <th>0</th>\n",
       "      <td>M1B</td>\n",
       "      <td>Scarborough</td>\n",
       "      <td>Rouge, Malvern</td>\n",
       "    </tr>\n",
       "    <tr>\n",
       "      <th>1</th>\n",
       "      <td>M1C</td>\n",
       "      <td>Scarborough</td>\n",
       "      <td>Highland Creek, Rouge Hill, Port Union</td>\n",
       "    </tr>\n",
       "    <tr>\n",
       "      <th>2</th>\n",
       "      <td>M1E</td>\n",
       "      <td>Scarborough</td>\n",
       "      <td>Guildwood, Morningside, West Hill</td>\n",
       "    </tr>\n",
       "    <tr>\n",
       "      <th>3</th>\n",
       "      <td>M1G</td>\n",
       "      <td>Scarborough</td>\n",
       "      <td>Woburn</td>\n",
       "    </tr>\n",
       "    <tr>\n",
       "      <th>4</th>\n",
       "      <td>M1H</td>\n",
       "      <td>Scarborough</td>\n",
       "      <td>Cedarbrae</td>\n",
       "    </tr>\n",
       "    <tr>\n",
       "      <th>5</th>\n",
       "      <td>M1J</td>\n",
       "      <td>Scarborough</td>\n",
       "      <td>Scarborough Village</td>\n",
       "    </tr>\n",
       "    <tr>\n",
       "      <th>6</th>\n",
       "      <td>M1K</td>\n",
       "      <td>Scarborough</td>\n",
       "      <td>East Birchmount Park, Ionview, Kennedy Park</td>\n",
       "    </tr>\n",
       "    <tr>\n",
       "      <th>7</th>\n",
       "      <td>M1L</td>\n",
       "      <td>Scarborough</td>\n",
       "      <td>Clairlea, Golden Mile, Oakridge</td>\n",
       "    </tr>\n",
       "    <tr>\n",
       "      <th>8</th>\n",
       "      <td>M1M</td>\n",
       "      <td>Scarborough</td>\n",
       "      <td>Cliffcrest, Cliffside, Scarborough Village West</td>\n",
       "    </tr>\n",
       "    <tr>\n",
       "      <th>9</th>\n",
       "      <td>M1N</td>\n",
       "      <td>Scarborough</td>\n",
       "      <td>Birch Cliff, Cliffside West</td>\n",
       "    </tr>\n",
       "    <tr>\n",
       "      <th>10</th>\n",
       "      <td>M1P</td>\n",
       "      <td>Scarborough</td>\n",
       "      <td>Dorset Park, Scarborough Town Centre, Wexford ...</td>\n",
       "    </tr>\n",
       "    <tr>\n",
       "      <th>11</th>\n",
       "      <td>M1R</td>\n",
       "      <td>Scarborough</td>\n",
       "      <td>Maryvale, Wexford</td>\n",
       "    </tr>\n",
       "  </tbody>\n",
       "</table>\n",
       "</div>"
      ],
      "text/plain": [
       "   PostalCode      Borough                                       Neighborhood\n",
       "0         M1B  Scarborough                                     Rouge, Malvern\n",
       "1         M1C  Scarborough             Highland Creek, Rouge Hill, Port Union\n",
       "2         M1E  Scarborough                  Guildwood, Morningside, West Hill\n",
       "3         M1G  Scarborough                                             Woburn\n",
       "4         M1H  Scarborough                                          Cedarbrae\n",
       "5         M1J  Scarborough                                Scarborough Village\n",
       "6         M1K  Scarborough        East Birchmount Park, Ionview, Kennedy Park\n",
       "7         M1L  Scarborough                    Clairlea, Golden Mile, Oakridge\n",
       "8         M1M  Scarborough    Cliffcrest, Cliffside, Scarborough Village West\n",
       "9         M1N  Scarborough                        Birch Cliff, Cliffside West\n",
       "10        M1P  Scarborough  Dorset Park, Scarborough Town Centre, Wexford ...\n",
       "11        M1R  Scarborough                                  Maryvale, Wexford"
      ]
     },
     "execution_count": 9,
     "metadata": {},
     "output_type": "execute_result"
    }
   ],
   "source": [
    "df.head(12)"
   ]
  },
  {
   "cell_type": "code",
   "execution_count": 10,
   "metadata": {},
   "outputs": [
    {
     "name": "stdout",
     "output_type": "stream",
     "text": [
      "Dataframe shape:  (103, 3)\n"
     ]
    }
   ],
   "source": [
    "print(\"Dataframe shape: \", df.shape)"
   ]
  },
  {
   "cell_type": "markdown",
   "metadata": {},
   "source": [
    "# P2"
   ]
  },
  {
   "cell_type": "markdown",
   "metadata": {},
   "source": [
    "We will be using the CSV data at https://cocl.us/Geospatial_data to get the latitude and logitude information for all the postal codes.\n",
    "\n",
    "Once we have the data, it will be concatenated with our original dataframe."
   ]
  },
  {
   "cell_type": "code",
   "execution_count": 11,
   "metadata": {},
   "outputs": [],
   "source": [
    "geospatial_data = pd.read_csv('https://cocl.us/Geospatial_data')\n",
    "\n",
    "df = pd.concat(\n",
    "    [df.set_index('PostalCode'), geospatial_data.set_index('Postal Code')],\n",
    "    axis=1, join='inner')\n",
    "\n",
    "\n",
    "df.reset_index(inplace=True)\n",
    "\n",
    "df.rename(columns={'index': 'PostalCode'}, inplace=True)"
   ]
  },
  {
   "cell_type": "code",
   "execution_count": 12,
   "metadata": {},
   "outputs": [
    {
     "data": {
      "text/html": [
       "<div>\n",
       "<style>\n",
       "    .dataframe thead tr:only-child th {\n",
       "        text-align: right;\n",
       "    }\n",
       "\n",
       "    .dataframe thead th {\n",
       "        text-align: left;\n",
       "    }\n",
       "\n",
       "    .dataframe tbody tr th {\n",
       "        vertical-align: top;\n",
       "    }\n",
       "</style>\n",
       "<table border=\"1\" class=\"dataframe\">\n",
       "  <thead>\n",
       "    <tr style=\"text-align: right;\">\n",
       "      <th></th>\n",
       "      <th>PostalCode</th>\n",
       "      <th>Borough</th>\n",
       "      <th>Neighborhood</th>\n",
       "      <th>Latitude</th>\n",
       "      <th>Longitude</th>\n",
       "    </tr>\n",
       "  </thead>\n",
       "  <tbody>\n",
       "    <tr>\n",
       "      <th>0</th>\n",
       "      <td>M1B</td>\n",
       "      <td>Scarborough</td>\n",
       "      <td>Rouge, Malvern</td>\n",
       "      <td>43.806686</td>\n",
       "      <td>-79.194353</td>\n",
       "    </tr>\n",
       "    <tr>\n",
       "      <th>1</th>\n",
       "      <td>M1C</td>\n",
       "      <td>Scarborough</td>\n",
       "      <td>Highland Creek, Rouge Hill, Port Union</td>\n",
       "      <td>43.784535</td>\n",
       "      <td>-79.160497</td>\n",
       "    </tr>\n",
       "    <tr>\n",
       "      <th>2</th>\n",
       "      <td>M1E</td>\n",
       "      <td>Scarborough</td>\n",
       "      <td>Guildwood, Morningside, West Hill</td>\n",
       "      <td>43.763573</td>\n",
       "      <td>-79.188711</td>\n",
       "    </tr>\n",
       "    <tr>\n",
       "      <th>3</th>\n",
       "      <td>M1G</td>\n",
       "      <td>Scarborough</td>\n",
       "      <td>Woburn</td>\n",
       "      <td>43.770992</td>\n",
       "      <td>-79.216917</td>\n",
       "    </tr>\n",
       "    <tr>\n",
       "      <th>4</th>\n",
       "      <td>M1H</td>\n",
       "      <td>Scarborough</td>\n",
       "      <td>Cedarbrae</td>\n",
       "      <td>43.773136</td>\n",
       "      <td>-79.239476</td>\n",
       "    </tr>\n",
       "    <tr>\n",
       "      <th>5</th>\n",
       "      <td>M1J</td>\n",
       "      <td>Scarborough</td>\n",
       "      <td>Scarborough Village</td>\n",
       "      <td>43.744734</td>\n",
       "      <td>-79.239476</td>\n",
       "    </tr>\n",
       "    <tr>\n",
       "      <th>6</th>\n",
       "      <td>M1K</td>\n",
       "      <td>Scarborough</td>\n",
       "      <td>East Birchmount Park, Ionview, Kennedy Park</td>\n",
       "      <td>43.727929</td>\n",
       "      <td>-79.262029</td>\n",
       "    </tr>\n",
       "    <tr>\n",
       "      <th>7</th>\n",
       "      <td>M1L</td>\n",
       "      <td>Scarborough</td>\n",
       "      <td>Clairlea, Golden Mile, Oakridge</td>\n",
       "      <td>43.711112</td>\n",
       "      <td>-79.284577</td>\n",
       "    </tr>\n",
       "    <tr>\n",
       "      <th>8</th>\n",
       "      <td>M1M</td>\n",
       "      <td>Scarborough</td>\n",
       "      <td>Cliffcrest, Cliffside, Scarborough Village West</td>\n",
       "      <td>43.716316</td>\n",
       "      <td>-79.239476</td>\n",
       "    </tr>\n",
       "    <tr>\n",
       "      <th>9</th>\n",
       "      <td>M1N</td>\n",
       "      <td>Scarborough</td>\n",
       "      <td>Birch Cliff, Cliffside West</td>\n",
       "      <td>43.692657</td>\n",
       "      <td>-79.264848</td>\n",
       "    </tr>\n",
       "    <tr>\n",
       "      <th>10</th>\n",
       "      <td>M1P</td>\n",
       "      <td>Scarborough</td>\n",
       "      <td>Dorset Park, Scarborough Town Centre, Wexford ...</td>\n",
       "      <td>43.757410</td>\n",
       "      <td>-79.273304</td>\n",
       "    </tr>\n",
       "    <tr>\n",
       "      <th>11</th>\n",
       "      <td>M1R</td>\n",
       "      <td>Scarborough</td>\n",
       "      <td>Maryvale, Wexford</td>\n",
       "      <td>43.750072</td>\n",
       "      <td>-79.295849</td>\n",
       "    </tr>\n",
       "  </tbody>\n",
       "</table>\n",
       "</div>"
      ],
      "text/plain": [
       "   PostalCode      Borough                                       Neighborhood  \\\n",
       "0         M1B  Scarborough                                     Rouge, Malvern   \n",
       "1         M1C  Scarborough             Highland Creek, Rouge Hill, Port Union   \n",
       "2         M1E  Scarborough                  Guildwood, Morningside, West Hill   \n",
       "3         M1G  Scarborough                                             Woburn   \n",
       "4         M1H  Scarborough                                          Cedarbrae   \n",
       "5         M1J  Scarborough                                Scarborough Village   \n",
       "6         M1K  Scarborough        East Birchmount Park, Ionview, Kennedy Park   \n",
       "7         M1L  Scarborough                    Clairlea, Golden Mile, Oakridge   \n",
       "8         M1M  Scarborough    Cliffcrest, Cliffside, Scarborough Village West   \n",
       "9         M1N  Scarborough                        Birch Cliff, Cliffside West   \n",
       "10        M1P  Scarborough  Dorset Park, Scarborough Town Centre, Wexford ...   \n",
       "11        M1R  Scarborough                                  Maryvale, Wexford   \n",
       "\n",
       "     Latitude  Longitude  \n",
       "0   43.806686 -79.194353  \n",
       "1   43.784535 -79.160497  \n",
       "2   43.763573 -79.188711  \n",
       "3   43.770992 -79.216917  \n",
       "4   43.773136 -79.239476  \n",
       "5   43.744734 -79.239476  \n",
       "6   43.727929 -79.262029  \n",
       "7   43.711112 -79.284577  \n",
       "8   43.716316 -79.239476  \n",
       "9   43.692657 -79.264848  \n",
       "10  43.757410 -79.273304  \n",
       "11  43.750072 -79.295849  "
      ]
     },
     "execution_count": 12,
     "metadata": {},
     "output_type": "execute_result"
    }
   ],
   "source": [
    "df.head(12)"
   ]
  },
  {
   "cell_type": "markdown",
   "metadata": {},
   "source": [
    "# P3"
   ]
  },
  {
   "cell_type": "markdown",
   "metadata": {},
   "source": [
    "### Get Toronto's latitude and longitude using geopy"
   ]
  },
  {
   "cell_type": "code",
   "execution_count": 13,
   "metadata": {},
   "outputs": [
    {
     "name": "stdout",
     "output_type": "stream",
     "text": [
      "The geograpical coordinate of Toronto are 43.653963, -79.387207.\n"
     ]
    }
   ],
   "source": [
    "address = 'Toronto, Canada'\n",
    "geolocator = Nominatim(user_agent=\"toronto_explorer\")\n",
    "location = geolocator.geocode(address)\n",
    "print('The geograpical coordinate of Toronto are {}, {}.'.format(\n",
    "    location.latitude, location.longitude))"
   ]
  },
  {
   "cell_type": "markdown",
   "metadata": {},
   "source": [
    "### Create a map of Toronto using folium"
   ]
  },
  {
   "cell_type": "code",
   "execution_count": 14,
   "metadata": {},
   "outputs": [
    {
     "data": {
      "text/html": [
       "<div style=\"width:100%;\"><div style=\"position:relative;width:100%;height:0;padding-bottom:60%;\"><iframe src=\"data:text/html;charset=utf-8;base64,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\" style=\"position:absolute;width:100%;height:100%;left:0;top:0;border:none !important;\" allowfullscreen webkitallowfullscreen mozallowfullscreen></iframe></div></div>"
      ],
      "text/plain": [
       "<folium.folium.Map at 0x3fff0cefef28>"
      ]
     },
     "execution_count": 14,
     "metadata": {},
     "output_type": "execute_result"
    }
   ],
   "source": [
    "map_toronto = folium.Map(\n",
    "    location=[location.latitude, location.longitude],\n",
    "    zoom_start=10)\n",
    "map_toronto"
   ]
  },
  {
   "cell_type": "markdown",
   "metadata": {},
   "source": [
    "### Superimpose the neighborhoods on Toronto's map"
   ]
  },
  {
   "cell_type": "code",
   "execution_count": 15,
   "metadata": {},
   "outputs": [
    {
     "data": {
      "text/html": [
       "<div style=\"width:100%;\"><div style=\"position:relative;width:100%;height:0;padding-bottom:60%;\"><iframe src=\"data:text/html;charset=utf-8;base64,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\" style=\"position:absolute;width:100%;height:100%;left:0;top:0;border:none !important;\" allowfullscreen webkitallowfullscreen mozallowfullscreen></iframe></div></div>"
      ],
      "text/plain": [
       "<folium.folium.Map at 0x3fff0cefef28>"
      ]
     },
     "execution_count": 15,
     "metadata": {},
     "output_type": "execute_result"
    }
   ],
   "source": [
    "for _, row in df.iterrows():\n",
    "    label = '{} ({}), {}'.format(\n",
    "        row.PostalCode, row.Neighborhood, row.Borough)\n",
    "    label = folium.Popup(label, parse_html=True)\n",
    "    folium.CircleMarker(\n",
    "        [row.Latitude, row.Longitude],\n",
    "        radius=5,\n",
    "        popup=label,\n",
    "        color='blue',\n",
    "        fill=True,\n",
    "        fill_color='#3186cc',\n",
    "        fill_opacity=0.7,\n",
    "        parse_html=False).add_to(map_toronto) \n",
    "    \n",
    "map_toronto"
   ]
  },
  {
   "cell_type": "markdown",
   "metadata": {},
   "source": [
    "### Limit data set to boroughs with term 'Toronto'"
   ]
  },
  {
   "cell_type": "code",
   "execution_count": 16,
   "metadata": {},
   "outputs": [
    {
     "data": {
      "text/html": [
       "<div>\n",
       "<style>\n",
       "    .dataframe thead tr:only-child th {\n",
       "        text-align: right;\n",
       "    }\n",
       "\n",
       "    .dataframe thead th {\n",
       "        text-align: left;\n",
       "    }\n",
       "\n",
       "    .dataframe tbody tr th {\n",
       "        vertical-align: top;\n",
       "    }\n",
       "</style>\n",
       "<table border=\"1\" class=\"dataframe\">\n",
       "  <thead>\n",
       "    <tr style=\"text-align: right;\">\n",
       "      <th></th>\n",
       "      <th>PostalCode</th>\n",
       "      <th>Borough</th>\n",
       "      <th>Neighborhood</th>\n",
       "      <th>Latitude</th>\n",
       "      <th>Longitude</th>\n",
       "    </tr>\n",
       "  </thead>\n",
       "  <tbody>\n",
       "    <tr>\n",
       "      <th>0</th>\n",
       "      <td>M4E</td>\n",
       "      <td>East Toronto</td>\n",
       "      <td>The Beaches</td>\n",
       "      <td>43.676357</td>\n",
       "      <td>-79.293031</td>\n",
       "    </tr>\n",
       "    <tr>\n",
       "      <th>1</th>\n",
       "      <td>M4K</td>\n",
       "      <td>East Toronto</td>\n",
       "      <td>The Danforth West, Riverdale</td>\n",
       "      <td>43.679557</td>\n",
       "      <td>-79.352188</td>\n",
       "    </tr>\n",
       "    <tr>\n",
       "      <th>2</th>\n",
       "      <td>M4L</td>\n",
       "      <td>East Toronto</td>\n",
       "      <td>The Beaches West, India Bazaar</td>\n",
       "      <td>43.668999</td>\n",
       "      <td>-79.315572</td>\n",
       "    </tr>\n",
       "    <tr>\n",
       "      <th>3</th>\n",
       "      <td>M4M</td>\n",
       "      <td>East Toronto</td>\n",
       "      <td>Studio District</td>\n",
       "      <td>43.659526</td>\n",
       "      <td>-79.340923</td>\n",
       "    </tr>\n",
       "    <tr>\n",
       "      <th>4</th>\n",
       "      <td>M4N</td>\n",
       "      <td>Central Toronto</td>\n",
       "      <td>Lawrence Park</td>\n",
       "      <td>43.728020</td>\n",
       "      <td>-79.388790</td>\n",
       "    </tr>\n",
       "    <tr>\n",
       "      <th>5</th>\n",
       "      <td>M4P</td>\n",
       "      <td>Central Toronto</td>\n",
       "      <td>Davisville North</td>\n",
       "      <td>43.712751</td>\n",
       "      <td>-79.390197</td>\n",
       "    </tr>\n",
       "    <tr>\n",
       "      <th>6</th>\n",
       "      <td>M4R</td>\n",
       "      <td>Central Toronto</td>\n",
       "      <td>North Toronto West</td>\n",
       "      <td>43.715383</td>\n",
       "      <td>-79.405678</td>\n",
       "    </tr>\n",
       "    <tr>\n",
       "      <th>7</th>\n",
       "      <td>M4S</td>\n",
       "      <td>Central Toronto</td>\n",
       "      <td>Davisville</td>\n",
       "      <td>43.704324</td>\n",
       "      <td>-79.388790</td>\n",
       "    </tr>\n",
       "    <tr>\n",
       "      <th>8</th>\n",
       "      <td>M4T</td>\n",
       "      <td>Central Toronto</td>\n",
       "      <td>Moore Park, Summerhill East</td>\n",
       "      <td>43.689574</td>\n",
       "      <td>-79.383160</td>\n",
       "    </tr>\n",
       "    <tr>\n",
       "      <th>9</th>\n",
       "      <td>M4V</td>\n",
       "      <td>Central Toronto</td>\n",
       "      <td>Deer Park, Forest Hill SE, Rathnelly, South Hi...</td>\n",
       "      <td>43.686412</td>\n",
       "      <td>-79.400049</td>\n",
       "    </tr>\n",
       "    <tr>\n",
       "      <th>10</th>\n",
       "      <td>M4W</td>\n",
       "      <td>Downtown Toronto</td>\n",
       "      <td>Rosedale</td>\n",
       "      <td>43.679563</td>\n",
       "      <td>-79.377529</td>\n",
       "    </tr>\n",
       "    <tr>\n",
       "      <th>11</th>\n",
       "      <td>M4X</td>\n",
       "      <td>Downtown Toronto</td>\n",
       "      <td>Cabbagetown, St. James Town</td>\n",
       "      <td>43.667967</td>\n",
       "      <td>-79.367675</td>\n",
       "    </tr>\n",
       "    <tr>\n",
       "      <th>12</th>\n",
       "      <td>M4Y</td>\n",
       "      <td>Downtown Toronto</td>\n",
       "      <td>Church and Wellesley</td>\n",
       "      <td>43.665860</td>\n",
       "      <td>-79.383160</td>\n",
       "    </tr>\n",
       "    <tr>\n",
       "      <th>13</th>\n",
       "      <td>M5A</td>\n",
       "      <td>Downtown Toronto</td>\n",
       "      <td>Harbourfront, Regent Park</td>\n",
       "      <td>43.654260</td>\n",
       "      <td>-79.360636</td>\n",
       "    </tr>\n",
       "    <tr>\n",
       "      <th>14</th>\n",
       "      <td>M5B</td>\n",
       "      <td>Downtown Toronto</td>\n",
       "      <td>Ryerson, Garden District</td>\n",
       "      <td>43.657162</td>\n",
       "      <td>-79.378937</td>\n",
       "    </tr>\n",
       "    <tr>\n",
       "      <th>15</th>\n",
       "      <td>M5C</td>\n",
       "      <td>Downtown Toronto</td>\n",
       "      <td>St. James Town</td>\n",
       "      <td>43.651494</td>\n",
       "      <td>-79.375418</td>\n",
       "    </tr>\n",
       "    <tr>\n",
       "      <th>16</th>\n",
       "      <td>M5E</td>\n",
       "      <td>Downtown Toronto</td>\n",
       "      <td>Berczy Park</td>\n",
       "      <td>43.644771</td>\n",
       "      <td>-79.373306</td>\n",
       "    </tr>\n",
       "    <tr>\n",
       "      <th>17</th>\n",
       "      <td>M5G</td>\n",
       "      <td>Downtown Toronto</td>\n",
       "      <td>Central Bay Street</td>\n",
       "      <td>43.657952</td>\n",
       "      <td>-79.387383</td>\n",
       "    </tr>\n",
       "    <tr>\n",
       "      <th>18</th>\n",
       "      <td>M5H</td>\n",
       "      <td>Downtown Toronto</td>\n",
       "      <td>Adelaide, King, Richmond</td>\n",
       "      <td>43.650571</td>\n",
       "      <td>-79.384568</td>\n",
       "    </tr>\n",
       "    <tr>\n",
       "      <th>19</th>\n",
       "      <td>M5J</td>\n",
       "      <td>Downtown Toronto</td>\n",
       "      <td>Harbourfront East, Toronto Islands, Union Station</td>\n",
       "      <td>43.640816</td>\n",
       "      <td>-79.381752</td>\n",
       "    </tr>\n",
       "    <tr>\n",
       "      <th>20</th>\n",
       "      <td>M5K</td>\n",
       "      <td>Downtown Toronto</td>\n",
       "      <td>Design Exchange, Toronto Dominion Centre</td>\n",
       "      <td>43.647177</td>\n",
       "      <td>-79.381576</td>\n",
       "    </tr>\n",
       "    <tr>\n",
       "      <th>21</th>\n",
       "      <td>M5L</td>\n",
       "      <td>Downtown Toronto</td>\n",
       "      <td>Commerce Court, Victoria Hotel</td>\n",
       "      <td>43.648198</td>\n",
       "      <td>-79.379817</td>\n",
       "    </tr>\n",
       "    <tr>\n",
       "      <th>22</th>\n",
       "      <td>M5N</td>\n",
       "      <td>Central Toronto</td>\n",
       "      <td>Roselawn</td>\n",
       "      <td>43.711695</td>\n",
       "      <td>-79.416936</td>\n",
       "    </tr>\n",
       "    <tr>\n",
       "      <th>23</th>\n",
       "      <td>M5P</td>\n",
       "      <td>Central Toronto</td>\n",
       "      <td>Forest Hill North, Forest Hill West</td>\n",
       "      <td>43.696948</td>\n",
       "      <td>-79.411307</td>\n",
       "    </tr>\n",
       "    <tr>\n",
       "      <th>24</th>\n",
       "      <td>M5R</td>\n",
       "      <td>Central Toronto</td>\n",
       "      <td>The Annex, North Midtown, Yorkville</td>\n",
       "      <td>43.672710</td>\n",
       "      <td>-79.405678</td>\n",
       "    </tr>\n",
       "    <tr>\n",
       "      <th>25</th>\n",
       "      <td>M5S</td>\n",
       "      <td>Downtown Toronto</td>\n",
       "      <td>Harbord, University of Toronto</td>\n",
       "      <td>43.662696</td>\n",
       "      <td>-79.400049</td>\n",
       "    </tr>\n",
       "    <tr>\n",
       "      <th>26</th>\n",
       "      <td>M5T</td>\n",
       "      <td>Downtown Toronto</td>\n",
       "      <td>Chinatown, Grange Park, Kensington Market</td>\n",
       "      <td>43.653206</td>\n",
       "      <td>-79.400049</td>\n",
       "    </tr>\n",
       "    <tr>\n",
       "      <th>27</th>\n",
       "      <td>M5V</td>\n",
       "      <td>Downtown Toronto</td>\n",
       "      <td>CN Tower, Bathurst Quay, Island airport, Harbo...</td>\n",
       "      <td>43.628947</td>\n",
       "      <td>-79.394420</td>\n",
       "    </tr>\n",
       "    <tr>\n",
       "      <th>28</th>\n",
       "      <td>M5W</td>\n",
       "      <td>Downtown Toronto</td>\n",
       "      <td>Stn A PO Boxes 25 The Esplanade</td>\n",
       "      <td>43.646435</td>\n",
       "      <td>-79.374846</td>\n",
       "    </tr>\n",
       "    <tr>\n",
       "      <th>29</th>\n",
       "      <td>M5X</td>\n",
       "      <td>Downtown Toronto</td>\n",
       "      <td>First Canadian Place, Underground city</td>\n",
       "      <td>43.648429</td>\n",
       "      <td>-79.382280</td>\n",
       "    </tr>\n",
       "    <tr>\n",
       "      <th>30</th>\n",
       "      <td>M6G</td>\n",
       "      <td>Downtown Toronto</td>\n",
       "      <td>Christie</td>\n",
       "      <td>43.669542</td>\n",
       "      <td>-79.422564</td>\n",
       "    </tr>\n",
       "    <tr>\n",
       "      <th>31</th>\n",
       "      <td>M6H</td>\n",
       "      <td>West Toronto</td>\n",
       "      <td>Dovercourt Village, Dufferin</td>\n",
       "      <td>43.669005</td>\n",
       "      <td>-79.442259</td>\n",
       "    </tr>\n",
       "    <tr>\n",
       "      <th>32</th>\n",
       "      <td>M6J</td>\n",
       "      <td>West Toronto</td>\n",
       "      <td>Little Portugal, Trinity</td>\n",
       "      <td>43.647927</td>\n",
       "      <td>-79.419750</td>\n",
       "    </tr>\n",
       "    <tr>\n",
       "      <th>33</th>\n",
       "      <td>M6K</td>\n",
       "      <td>West Toronto</td>\n",
       "      <td>Brockton, Exhibition Place, Parkdale Village</td>\n",
       "      <td>43.636847</td>\n",
       "      <td>-79.428191</td>\n",
       "    </tr>\n",
       "    <tr>\n",
       "      <th>34</th>\n",
       "      <td>M6P</td>\n",
       "      <td>West Toronto</td>\n",
       "      <td>High Park, The Junction South</td>\n",
       "      <td>43.661608</td>\n",
       "      <td>-79.464763</td>\n",
       "    </tr>\n",
       "    <tr>\n",
       "      <th>35</th>\n",
       "      <td>M6R</td>\n",
       "      <td>West Toronto</td>\n",
       "      <td>Parkdale, Roncesvalles</td>\n",
       "      <td>43.648960</td>\n",
       "      <td>-79.456325</td>\n",
       "    </tr>\n",
       "    <tr>\n",
       "      <th>36</th>\n",
       "      <td>M6S</td>\n",
       "      <td>West Toronto</td>\n",
       "      <td>Runnymede, Swansea</td>\n",
       "      <td>43.651571</td>\n",
       "      <td>-79.484450</td>\n",
       "    </tr>\n",
       "    <tr>\n",
       "      <th>37</th>\n",
       "      <td>M7Y</td>\n",
       "      <td>East Toronto</td>\n",
       "      <td>Business Reply Mail Processing Centre 969 Eastern</td>\n",
       "      <td>43.662744</td>\n",
       "      <td>-79.321558</td>\n",
       "    </tr>\n",
       "  </tbody>\n",
       "</table>\n",
       "</div>"
      ],
      "text/plain": [
       "   PostalCode           Borough  \\\n",
       "0         M4E      East Toronto   \n",
       "1         M4K      East Toronto   \n",
       "2         M4L      East Toronto   \n",
       "3         M4M      East Toronto   \n",
       "4         M4N   Central Toronto   \n",
       "5         M4P   Central Toronto   \n",
       "6         M4R   Central Toronto   \n",
       "7         M4S   Central Toronto   \n",
       "8         M4T   Central Toronto   \n",
       "9         M4V   Central Toronto   \n",
       "10        M4W  Downtown Toronto   \n",
       "11        M4X  Downtown Toronto   \n",
       "12        M4Y  Downtown Toronto   \n",
       "13        M5A  Downtown Toronto   \n",
       "14        M5B  Downtown Toronto   \n",
       "15        M5C  Downtown Toronto   \n",
       "16        M5E  Downtown Toronto   \n",
       "17        M5G  Downtown Toronto   \n",
       "18        M5H  Downtown Toronto   \n",
       "19        M5J  Downtown Toronto   \n",
       "20        M5K  Downtown Toronto   \n",
       "21        M5L  Downtown Toronto   \n",
       "22        M5N   Central Toronto   \n",
       "23        M5P   Central Toronto   \n",
       "24        M5R   Central Toronto   \n",
       "25        M5S  Downtown Toronto   \n",
       "26        M5T  Downtown Toronto   \n",
       "27        M5V  Downtown Toronto   \n",
       "28        M5W  Downtown Toronto   \n",
       "29        M5X  Downtown Toronto   \n",
       "30        M6G  Downtown Toronto   \n",
       "31        M6H      West Toronto   \n",
       "32        M6J      West Toronto   \n",
       "33        M6K      West Toronto   \n",
       "34        M6P      West Toronto   \n",
       "35        M6R      West Toronto   \n",
       "36        M6S      West Toronto   \n",
       "37        M7Y      East Toronto   \n",
       "\n",
       "                                         Neighborhood   Latitude  Longitude  \n",
       "0                                         The Beaches  43.676357 -79.293031  \n",
       "1                        The Danforth West, Riverdale  43.679557 -79.352188  \n",
       "2                      The Beaches West, India Bazaar  43.668999 -79.315572  \n",
       "3                                     Studio District  43.659526 -79.340923  \n",
       "4                                       Lawrence Park  43.728020 -79.388790  \n",
       "5                                    Davisville North  43.712751 -79.390197  \n",
       "6                                  North Toronto West  43.715383 -79.405678  \n",
       "7                                          Davisville  43.704324 -79.388790  \n",
       "8                         Moore Park, Summerhill East  43.689574 -79.383160  \n",
       "9   Deer Park, Forest Hill SE, Rathnelly, South Hi...  43.686412 -79.400049  \n",
       "10                                           Rosedale  43.679563 -79.377529  \n",
       "11                        Cabbagetown, St. James Town  43.667967 -79.367675  \n",
       "12                               Church and Wellesley  43.665860 -79.383160  \n",
       "13                          Harbourfront, Regent Park  43.654260 -79.360636  \n",
       "14                           Ryerson, Garden District  43.657162 -79.378937  \n",
       "15                                     St. James Town  43.651494 -79.375418  \n",
       "16                                        Berczy Park  43.644771 -79.373306  \n",
       "17                                 Central Bay Street  43.657952 -79.387383  \n",
       "18                           Adelaide, King, Richmond  43.650571 -79.384568  \n",
       "19  Harbourfront East, Toronto Islands, Union Station  43.640816 -79.381752  \n",
       "20           Design Exchange, Toronto Dominion Centre  43.647177 -79.381576  \n",
       "21                     Commerce Court, Victoria Hotel  43.648198 -79.379817  \n",
       "22                                           Roselawn  43.711695 -79.416936  \n",
       "23                Forest Hill North, Forest Hill West  43.696948 -79.411307  \n",
       "24                The Annex, North Midtown, Yorkville  43.672710 -79.405678  \n",
       "25                     Harbord, University of Toronto  43.662696 -79.400049  \n",
       "26          Chinatown, Grange Park, Kensington Market  43.653206 -79.400049  \n",
       "27  CN Tower, Bathurst Quay, Island airport, Harbo...  43.628947 -79.394420  \n",
       "28                    Stn A PO Boxes 25 The Esplanade  43.646435 -79.374846  \n",
       "29             First Canadian Place, Underground city  43.648429 -79.382280  \n",
       "30                                           Christie  43.669542 -79.422564  \n",
       "31                       Dovercourt Village, Dufferin  43.669005 -79.442259  \n",
       "32                           Little Portugal, Trinity  43.647927 -79.419750  \n",
       "33       Brockton, Exhibition Place, Parkdale Village  43.636847 -79.428191  \n",
       "34                      High Park, The Junction South  43.661608 -79.464763  \n",
       "35                             Parkdale, Roncesvalles  43.648960 -79.456325  \n",
       "36                                 Runnymede, Swansea  43.651571 -79.484450  \n",
       "37  Business Reply Mail Processing Centre 969 Eastern  43.662744 -79.321558  "
      ]
     },
     "execution_count": 16,
     "metadata": {},
     "output_type": "execute_result"
    }
   ],
   "source": [
    "toronto_data = df[df.Borough.str.contains('Toronto')]\n",
    "toronto_data.reset_index(inplace=True, drop=True)\n",
    "toronto_data"
   ]
  },
  {
   "cell_type": "code",
   "execution_count": 17,
   "metadata": {},
   "outputs": [
    {
     "data": {
      "text/plain": [
       "(38, 5)"
      ]
     },
     "execution_count": 17,
     "metadata": {},
     "output_type": "execute_result"
    }
   ],
   "source": [
    "toronto_data.shape"
   ]
  },
  {
   "cell_type": "markdown",
   "metadata": {},
   "source": [
    "So, there are 38 neighborhoods with boroughs containing the term 'Toronto'.\n",
    "\n",
    "Let us visualize these on Toronto's map."
   ]
  },
  {
   "cell_type": "code",
   "execution_count": 18,
   "metadata": {},
   "outputs": [
    {
     "data": {
      "text/html": [
       "<div style=\"width:100%;\"><div style=\"position:relative;width:100%;height:0;padding-bottom:60%;\"><iframe src=\"data:text/html;charset=utf-8;base64,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\" style=\"position:absolute;width:100%;height:100%;left:0;top:0;border:none !important;\" allowfullscreen webkitallowfullscreen mozallowfullscreen></iframe></div></div>"
      ],
      "text/plain": [
       "<folium.folium.Map at 0x3fff0ca8d828>"
      ]
     },
     "execution_count": 18,
     "metadata": {},
     "output_type": "execute_result"
    }
   ],
   "source": [
    "map_toronto = folium.Map(\n",
    "    location=[location.latitude, location.longitude],\n",
    "    zoom_start=11)\n",
    "\n",
    "for _, row in toronto_data.iterrows():\n",
    "    label = '{} ({}), {}'.format(\n",
    "        row.PostalCode, row.Neighborhood, row.Borough)\n",
    "    label = folium.Popup(label, parse_html=True)\n",
    "    folium.CircleMarker(\n",
    "        [row.Latitude, row.Longitude],\n",
    "        radius=5,\n",
    "        popup=label,\n",
    "        color='blue',\n",
    "        fill=True,\n",
    "        fill_color='#3186cc',\n",
    "        fill_opacity=0.7,\n",
    "        parse_html=False).add_to(map_toronto) \n",
    "    \n",
    "map_toronto"
   ]
  },
  {
   "cell_type": "markdown",
   "metadata": {},
   "source": [
    "### Define Foursquare crendentials"
   ]
  },
  {
   "cell_type": "code",
   "execution_count": 19,
   "metadata": {},
   "outputs": [],
   "source": [
    "#from config import config\n",
    "\n",
    "#CLIENT_ID = config['CLIENT_ID']\n",
    "#CLIENT_SECRET = config['CLIENT_SECRET']\n",
    "CLIENT_ID = '3FXRHYFE5AM4HQGVYXXQR433VZTIDPJHNCEOYAFHAH2TWI52'\n",
    "CLIENT_SECRET = 'O1KXIYWCOINRIRYOBDLADYAHQUSJORLCSBVRBTXTTW1MCDTW'\n",
    "VERSION = '20191024'"
   ]
  },
  {
   "cell_type": "markdown",
   "metadata": {},
   "source": [
    "### Explore a neighborhood in Toronto"
   ]
  },
  {
   "cell_type": "code",
   "execution_count": 20,
   "metadata": {},
   "outputs": [
    {
     "name": "stdout",
     "output_type": "stream",
     "text": [
      "Latitude and longitude of neighborhood 'The Beaches' are [43.67635739999999, -79.2930312]\n"
     ]
    }
   ],
   "source": [
    "neighborhood_name = toronto_data.loc[0, 'Neighborhood']\n",
    "neighborhood_latitude = toronto_data.loc[0, 'Latitude']\n",
    "neighborhood_longitude = toronto_data.loc[0, 'Longitude']\n",
    "\n",
    "print(\"Latitude and longitude of neighborhood '{}' are [{}, {}]\".format(\n",
    "    neighborhood_name, neighborhood_latitude, neighborhood_longitude))"
   ]
  },
  {
   "cell_type": "markdown",
   "metadata": {},
   "source": [
    "### Get the top 100 venues in 'The Beaches' within a radius of 500 meters."
   ]
  },
  {
   "cell_type": "code",
   "execution_count": 21,
   "metadata": {},
   "outputs": [],
   "source": [
    "limit = 100\n",
    "radius = 500\n",
    "explore_url_prefix = 'https://api.foursquare.com/v2/venues/explore'\n",
    "url = '{}?&client_id={}&client_secret={}&v={}&ll={},{}&radius={}&limit={}'.format(\n",
    "    explore_url_prefix, CLIENT_ID, CLIENT_SECRET, VERSION, \n",
    "    neighborhood_latitude, neighborhood_longitude, radius, limit)"
   ]
  },
  {
   "cell_type": "code",
   "execution_count": 22,
   "metadata": {},
   "outputs": [
    {
     "data": {
      "text/plain": [
       "{'meta': {'code': 200, 'requestId': '5db156426e4650002c6043a8'},\n",
       " 'response': {'headerLocation': 'The Beaches',\n",
       "  'headerFullLocation': 'The Beaches, Toronto',\n",
       "  'headerLocationGranularity': 'neighborhood',\n",
       "  'totalResults': 4,\n",
       "  'suggestedBounds': {'ne': {'lat': 43.680857404499996,\n",
       "    'lng': -79.28682091449052},\n",
       "   'sw': {'lat': 43.67185739549999, 'lng': -79.29924148550948}},\n",
       "  'groups': [{'type': 'Recommended Places',\n",
       "    'name': 'recommended',\n",
       "    'items': [{'reasons': {'count': 0,\n",
       "       'items': [{'summary': 'This spot is popular',\n",
       "         'type': 'general',\n",
       "         'reasonName': 'globalInteractionReason'}]},\n",
       "      'venue': {'id': '4bd461bc77b29c74a07d9282',\n",
       "       'name': 'Glen Manor Ravine',\n",
       "       'location': {'address': 'Glen Manor',\n",
       "        'crossStreet': 'Queen St.',\n",
       "        'lat': 43.67682094413784,\n",
       "        'lng': -79.29394208780985,\n",
       "        'labeledLatLngs': [{'label': 'display',\n",
       "          'lat': 43.67682094413784,\n",
       "          'lng': -79.29394208780985}],\n",
       "        'distance': 89,\n",
       "        'cc': 'CA',\n",
       "        'city': 'Toronto',\n",
       "        'state': 'ON',\n",
       "        'country': 'Canada',\n",
       "        'formattedAddress': ['Glen Manor (Queen St.)',\n",
       "         'Toronto ON',\n",
       "         'Canada']},\n",
       "       'categories': [{'id': '4bf58dd8d48988d159941735',\n",
       "         'name': 'Trail',\n",
       "         'pluralName': 'Trails',\n",
       "         'shortName': 'Trail',\n",
       "         'icon': {'prefix': 'https://ss3.4sqi.net/img/categories_v2/parks_outdoors/hikingtrail_',\n",
       "          'suffix': '.png'},\n",
       "         'primary': True}],\n",
       "       'photos': {'count': 0, 'groups': []}},\n",
       "      'referralId': 'e-0-4bd461bc77b29c74a07d9282-0'},\n",
       "     {'reasons': {'count': 0,\n",
       "       'items': [{'summary': 'This spot is popular',\n",
       "         'type': 'general',\n",
       "         'reasonName': 'globalInteractionReason'}]},\n",
       "      'venue': {'id': '4ad4c062f964a52011f820e3',\n",
       "       'name': 'The Big Carrot Natural Food Market',\n",
       "       'location': {'address': '125 Southwood Dr',\n",
       "        'lat': 43.678879,\n",
       "        'lng': -79.297734,\n",
       "        'labeledLatLngs': [{'label': 'display',\n",
       "          'lat': 43.678879,\n",
       "          'lng': -79.297734}],\n",
       "        'distance': 471,\n",
       "        'postalCode': 'M4E 0B8',\n",
       "        'cc': 'CA',\n",
       "        'city': 'Toronto',\n",
       "        'state': 'ON',\n",
       "        'country': 'Canada',\n",
       "        'formattedAddress': ['125 Southwood Dr',\n",
       "         'Toronto ON M4E 0B8',\n",
       "         'Canada']},\n",
       "       'categories': [{'id': '50aa9e744b90af0d42d5de0e',\n",
       "         'name': 'Health Food Store',\n",
       "         'pluralName': 'Health Food Stores',\n",
       "         'shortName': 'Health Food Store',\n",
       "         'icon': {'prefix': 'https://ss3.4sqi.net/img/categories_v2/shops/food_grocery_',\n",
       "          'suffix': '.png'},\n",
       "         'primary': True}],\n",
       "       'photos': {'count': 0, 'groups': []},\n",
       "       'venuePage': {'id': '75150878'}},\n",
       "      'referralId': 'e-0-4ad4c062f964a52011f820e3-1'},\n",
       "     {'reasons': {'count': 0,\n",
       "       'items': [{'summary': 'This spot is popular',\n",
       "         'type': 'general',\n",
       "         'reasonName': 'globalInteractionReason'}]},\n",
       "      'venue': {'id': '4b8daea1f964a520480833e3',\n",
       "       'name': 'Grover Pub and Grub',\n",
       "       'location': {'address': '676 Kingston Rd.',\n",
       "        'crossStreet': 'at Main St.',\n",
       "        'lat': 43.679181434941015,\n",
       "        'lng': -79.29721535878515,\n",
       "        'labeledLatLngs': [{'label': 'display',\n",
       "          'lat': 43.679181434941015,\n",
       "          'lng': -79.29721535878515}],\n",
       "        'distance': 460,\n",
       "        'postalCode': 'M4E 1R4',\n",
       "        'cc': 'CA',\n",
       "        'city': 'Toronto',\n",
       "        'state': 'ON',\n",
       "        'country': 'Canada',\n",
       "        'formattedAddress': ['676 Kingston Rd. (at Main St.)',\n",
       "         'Toronto ON M4E 1R4',\n",
       "         'Canada']},\n",
       "       'categories': [{'id': '4bf58dd8d48988d11b941735',\n",
       "         'name': 'Pub',\n",
       "         'pluralName': 'Pubs',\n",
       "         'shortName': 'Pub',\n",
       "         'icon': {'prefix': 'https://ss3.4sqi.net/img/categories_v2/nightlife/pub_',\n",
       "          'suffix': '.png'},\n",
       "         'primary': True}],\n",
       "       'photos': {'count': 0, 'groups': []}},\n",
       "      'referralId': 'e-0-4b8daea1f964a520480833e3-2'},\n",
       "     {'reasons': {'count': 0,\n",
       "       'items': [{'summary': 'This spot is popular',\n",
       "         'type': 'general',\n",
       "         'reasonName': 'globalInteractionReason'}]},\n",
       "      'venue': {'id': '4df91c4bae60f95f82229ad5',\n",
       "       'name': 'Upper Beaches',\n",
       "       'location': {'lat': 43.68056321147582,\n",
       "        'lng': -79.2928688743688,\n",
       "        'labeledLatLngs': [{'label': 'display',\n",
       "          'lat': 43.68056321147582,\n",
       "          'lng': -79.2928688743688}],\n",
       "        'distance': 468,\n",
       "        'cc': 'CA',\n",
       "        'city': 'Toronto',\n",
       "        'state': 'ON',\n",
       "        'country': 'Canada',\n",
       "        'formattedAddress': ['Toronto ON', 'Canada']},\n",
       "       'categories': [{'id': '4f2a25ac4b909258e854f55f',\n",
       "         'name': 'Neighborhood',\n",
       "         'pluralName': 'Neighborhoods',\n",
       "         'shortName': 'Neighborhood',\n",
       "         'icon': {'prefix': 'https://ss3.4sqi.net/img/categories_v2/parks_outdoors/neighborhood_',\n",
       "          'suffix': '.png'},\n",
       "         'primary': True}],\n",
       "       'photos': {'count': 0, 'groups': []}},\n",
       "      'referralId': 'e-0-4df91c4bae60f95f82229ad5-3'}]}]}}"
      ]
     },
     "execution_count": 22,
     "metadata": {},
     "output_type": "execute_result"
    }
   ],
   "source": [
    "results = requests.get(url).json()\n",
    "results"
   ]
  },
  {
   "cell_type": "code",
   "execution_count": 23,
   "metadata": {},
   "outputs": [
    {
     "data": {
      "text/plain": [
       "[{'reasons': {'count': 0,\n",
       "   'items': [{'summary': 'This spot is popular',\n",
       "     'type': 'general',\n",
       "     'reasonName': 'globalInteractionReason'}]},\n",
       "  'venue': {'id': '4bd461bc77b29c74a07d9282',\n",
       "   'name': 'Glen Manor Ravine',\n",
       "   'location': {'address': 'Glen Manor',\n",
       "    'crossStreet': 'Queen St.',\n",
       "    'lat': 43.67682094413784,\n",
       "    'lng': -79.29394208780985,\n",
       "    'labeledLatLngs': [{'label': 'display',\n",
       "      'lat': 43.67682094413784,\n",
       "      'lng': -79.29394208780985}],\n",
       "    'distance': 89,\n",
       "    'cc': 'CA',\n",
       "    'city': 'Toronto',\n",
       "    'state': 'ON',\n",
       "    'country': 'Canada',\n",
       "    'formattedAddress': ['Glen Manor (Queen St.)', 'Toronto ON', 'Canada']},\n",
       "   'categories': [{'id': '4bf58dd8d48988d159941735',\n",
       "     'name': 'Trail',\n",
       "     'pluralName': 'Trails',\n",
       "     'shortName': 'Trail',\n",
       "     'icon': {'prefix': 'https://ss3.4sqi.net/img/categories_v2/parks_outdoors/hikingtrail_',\n",
       "      'suffix': '.png'},\n",
       "     'primary': True}],\n",
       "   'photos': {'count': 0, 'groups': []}},\n",
       "  'referralId': 'e-0-4bd461bc77b29c74a07d9282-0'},\n",
       " {'reasons': {'count': 0,\n",
       "   'items': [{'summary': 'This spot is popular',\n",
       "     'type': 'general',\n",
       "     'reasonName': 'globalInteractionReason'}]},\n",
       "  'venue': {'id': '4ad4c062f964a52011f820e3',\n",
       "   'name': 'The Big Carrot Natural Food Market',\n",
       "   'location': {'address': '125 Southwood Dr',\n",
       "    'lat': 43.678879,\n",
       "    'lng': -79.297734,\n",
       "    'labeledLatLngs': [{'label': 'display',\n",
       "      'lat': 43.678879,\n",
       "      'lng': -79.297734}],\n",
       "    'distance': 471,\n",
       "    'postalCode': 'M4E 0B8',\n",
       "    'cc': 'CA',\n",
       "    'city': 'Toronto',\n",
       "    'state': 'ON',\n",
       "    'country': 'Canada',\n",
       "    'formattedAddress': ['125 Southwood Dr', 'Toronto ON M4E 0B8', 'Canada']},\n",
       "   'categories': [{'id': '50aa9e744b90af0d42d5de0e',\n",
       "     'name': 'Health Food Store',\n",
       "     'pluralName': 'Health Food Stores',\n",
       "     'shortName': 'Health Food Store',\n",
       "     'icon': {'prefix': 'https://ss3.4sqi.net/img/categories_v2/shops/food_grocery_',\n",
       "      'suffix': '.png'},\n",
       "     'primary': True}],\n",
       "   'photos': {'count': 0, 'groups': []},\n",
       "   'venuePage': {'id': '75150878'}},\n",
       "  'referralId': 'e-0-4ad4c062f964a52011f820e3-1'},\n",
       " {'reasons': {'count': 0,\n",
       "   'items': [{'summary': 'This spot is popular',\n",
       "     'type': 'general',\n",
       "     'reasonName': 'globalInteractionReason'}]},\n",
       "  'venue': {'id': '4b8daea1f964a520480833e3',\n",
       "   'name': 'Grover Pub and Grub',\n",
       "   'location': {'address': '676 Kingston Rd.',\n",
       "    'crossStreet': 'at Main St.',\n",
       "    'lat': 43.679181434941015,\n",
       "    'lng': -79.29721535878515,\n",
       "    'labeledLatLngs': [{'label': 'display',\n",
       "      'lat': 43.679181434941015,\n",
       "      'lng': -79.29721535878515}],\n",
       "    'distance': 460,\n",
       "    'postalCode': 'M4E 1R4',\n",
       "    'cc': 'CA',\n",
       "    'city': 'Toronto',\n",
       "    'state': 'ON',\n",
       "    'country': 'Canada',\n",
       "    'formattedAddress': ['676 Kingston Rd. (at Main St.)',\n",
       "     'Toronto ON M4E 1R4',\n",
       "     'Canada']},\n",
       "   'categories': [{'id': '4bf58dd8d48988d11b941735',\n",
       "     'name': 'Pub',\n",
       "     'pluralName': 'Pubs',\n",
       "     'shortName': 'Pub',\n",
       "     'icon': {'prefix': 'https://ss3.4sqi.net/img/categories_v2/nightlife/pub_',\n",
       "      'suffix': '.png'},\n",
       "     'primary': True}],\n",
       "   'photos': {'count': 0, 'groups': []}},\n",
       "  'referralId': 'e-0-4b8daea1f964a520480833e3-2'},\n",
       " {'reasons': {'count': 0,\n",
       "   'items': [{'summary': 'This spot is popular',\n",
       "     'type': 'general',\n",
       "     'reasonName': 'globalInteractionReason'}]},\n",
       "  'venue': {'id': '4df91c4bae60f95f82229ad5',\n",
       "   'name': 'Upper Beaches',\n",
       "   'location': {'lat': 43.68056321147582,\n",
       "    'lng': -79.2928688743688,\n",
       "    'labeledLatLngs': [{'label': 'display',\n",
       "      'lat': 43.68056321147582,\n",
       "      'lng': -79.2928688743688}],\n",
       "    'distance': 468,\n",
       "    'cc': 'CA',\n",
       "    'city': 'Toronto',\n",
       "    'state': 'ON',\n",
       "    'country': 'Canada',\n",
       "    'formattedAddress': ['Toronto ON', 'Canada']},\n",
       "   'categories': [{'id': '4f2a25ac4b909258e854f55f',\n",
       "     'name': 'Neighborhood',\n",
       "     'pluralName': 'Neighborhoods',\n",
       "     'shortName': 'Neighborhood',\n",
       "     'icon': {'prefix': 'https://ss3.4sqi.net/img/categories_v2/parks_outdoors/neighborhood_',\n",
       "      'suffix': '.png'},\n",
       "     'primary': True}],\n",
       "   'photos': {'count': 0, 'groups': []}},\n",
       "  'referralId': 'e-0-4df91c4bae60f95f82229ad5-3'}]"
      ]
     },
     "execution_count": 23,
     "metadata": {},
     "output_type": "execute_result"
    }
   ],
   "source": [
    "venues = results['response']['groups'][0]['items']\n",
    "venues"
   ]
  },
  {
   "cell_type": "code",
   "execution_count": 24,
   "metadata": {},
   "outputs": [
    {
     "data": {
      "text/html": [
       "<div>\n",
       "<style>\n",
       "    .dataframe thead tr:only-child th {\n",
       "        text-align: right;\n",
       "    }\n",
       "\n",
       "    .dataframe thead th {\n",
       "        text-align: left;\n",
       "    }\n",
       "\n",
       "    .dataframe tbody tr th {\n",
       "        vertical-align: top;\n",
       "    }\n",
       "</style>\n",
       "<table border=\"1\" class=\"dataframe\">\n",
       "  <thead>\n",
       "    <tr style=\"text-align: right;\">\n",
       "      <th></th>\n",
       "      <th>reasons.count</th>\n",
       "      <th>reasons.items</th>\n",
       "      <th>referralId</th>\n",
       "      <th>venue.categories</th>\n",
       "      <th>venue.id</th>\n",
       "      <th>venue.location.address</th>\n",
       "      <th>venue.location.cc</th>\n",
       "      <th>venue.location.city</th>\n",
       "      <th>venue.location.country</th>\n",
       "      <th>venue.location.crossStreet</th>\n",
       "      <th>...</th>\n",
       "      <th>venue.location.formattedAddress</th>\n",
       "      <th>venue.location.labeledLatLngs</th>\n",
       "      <th>venue.location.lat</th>\n",
       "      <th>venue.location.lng</th>\n",
       "      <th>venue.location.postalCode</th>\n",
       "      <th>venue.location.state</th>\n",
       "      <th>venue.name</th>\n",
       "      <th>venue.photos.count</th>\n",
       "      <th>venue.photos.groups</th>\n",
       "      <th>venue.venuePage.id</th>\n",
       "    </tr>\n",
       "  </thead>\n",
       "  <tbody>\n",
       "    <tr>\n",
       "      <th>0</th>\n",
       "      <td>0</td>\n",
       "      <td>[{'summary': 'This spot is popular', 'type': '...</td>\n",
       "      <td>e-0-4bd461bc77b29c74a07d9282-0</td>\n",
       "      <td>[{'id': '4bf58dd8d48988d159941735', 'name': 'T...</td>\n",
       "      <td>4bd461bc77b29c74a07d9282</td>\n",
       "      <td>Glen Manor</td>\n",
       "      <td>CA</td>\n",
       "      <td>Toronto</td>\n",
       "      <td>Canada</td>\n",
       "      <td>Queen St.</td>\n",
       "      <td>...</td>\n",
       "      <td>[Glen Manor (Queen St.), Toronto ON, Canada]</td>\n",
       "      <td>[{'label': 'display', 'lat': 43.67682094413784...</td>\n",
       "      <td>43.676821</td>\n",
       "      <td>-79.293942</td>\n",
       "      <td>NaN</td>\n",
       "      <td>ON</td>\n",
       "      <td>Glen Manor Ravine</td>\n",
       "      <td>0</td>\n",
       "      <td>[]</td>\n",
       "      <td>NaN</td>\n",
       "    </tr>\n",
       "    <tr>\n",
       "      <th>1</th>\n",
       "      <td>0</td>\n",
       "      <td>[{'summary': 'This spot is popular', 'type': '...</td>\n",
       "      <td>e-0-4ad4c062f964a52011f820e3-1</td>\n",
       "      <td>[{'id': '50aa9e744b90af0d42d5de0e', 'name': 'H...</td>\n",
       "      <td>4ad4c062f964a52011f820e3</td>\n",
       "      <td>125 Southwood Dr</td>\n",
       "      <td>CA</td>\n",
       "      <td>Toronto</td>\n",
       "      <td>Canada</td>\n",
       "      <td>NaN</td>\n",
       "      <td>...</td>\n",
       "      <td>[125 Southwood Dr, Toronto ON M4E 0B8, Canada]</td>\n",
       "      <td>[{'label': 'display', 'lat': 43.678879, 'lng':...</td>\n",
       "      <td>43.678879</td>\n",
       "      <td>-79.297734</td>\n",
       "      <td>M4E 0B8</td>\n",
       "      <td>ON</td>\n",
       "      <td>The Big Carrot Natural Food Market</td>\n",
       "      <td>0</td>\n",
       "      <td>[]</td>\n",
       "      <td>75150878</td>\n",
       "    </tr>\n",
       "    <tr>\n",
       "      <th>2</th>\n",
       "      <td>0</td>\n",
       "      <td>[{'summary': 'This spot is popular', 'type': '...</td>\n",
       "      <td>e-0-4b8daea1f964a520480833e3-2</td>\n",
       "      <td>[{'id': '4bf58dd8d48988d11b941735', 'name': 'P...</td>\n",
       "      <td>4b8daea1f964a520480833e3</td>\n",
       "      <td>676 Kingston Rd.</td>\n",
       "      <td>CA</td>\n",
       "      <td>Toronto</td>\n",
       "      <td>Canada</td>\n",
       "      <td>at Main St.</td>\n",
       "      <td>...</td>\n",
       "      <td>[676 Kingston Rd. (at Main St.), Toronto ON M4...</td>\n",
       "      <td>[{'label': 'display', 'lat': 43.67918143494101...</td>\n",
       "      <td>43.679181</td>\n",
       "      <td>-79.297215</td>\n",
       "      <td>M4E 1R4</td>\n",
       "      <td>ON</td>\n",
       "      <td>Grover Pub and Grub</td>\n",
       "      <td>0</td>\n",
       "      <td>[]</td>\n",
       "      <td>NaN</td>\n",
       "    </tr>\n",
       "    <tr>\n",
       "      <th>3</th>\n",
       "      <td>0</td>\n",
       "      <td>[{'summary': 'This spot is popular', 'type': '...</td>\n",
       "      <td>e-0-4df91c4bae60f95f82229ad5-3</td>\n",
       "      <td>[{'id': '4f2a25ac4b909258e854f55f', 'name': 'N...</td>\n",
       "      <td>4df91c4bae60f95f82229ad5</td>\n",
       "      <td>NaN</td>\n",
       "      <td>CA</td>\n",
       "      <td>Toronto</td>\n",
       "      <td>Canada</td>\n",
       "      <td>NaN</td>\n",
       "      <td>...</td>\n",
       "      <td>[Toronto ON, Canada]</td>\n",
       "      <td>[{'label': 'display', 'lat': 43.68056321147582...</td>\n",
       "      <td>43.680563</td>\n",
       "      <td>-79.292869</td>\n",
       "      <td>NaN</td>\n",
       "      <td>ON</td>\n",
       "      <td>Upper Beaches</td>\n",
       "      <td>0</td>\n",
       "      <td>[]</td>\n",
       "      <td>NaN</td>\n",
       "    </tr>\n",
       "  </tbody>\n",
       "</table>\n",
       "<p>4 rows × 21 columns</p>\n",
       "</div>"
      ],
      "text/plain": [
       "   reasons.count                                      reasons.items  \\\n",
       "0              0  [{'summary': 'This spot is popular', 'type': '...   \n",
       "1              0  [{'summary': 'This spot is popular', 'type': '...   \n",
       "2              0  [{'summary': 'This spot is popular', 'type': '...   \n",
       "3              0  [{'summary': 'This spot is popular', 'type': '...   \n",
       "\n",
       "                       referralId  \\\n",
       "0  e-0-4bd461bc77b29c74a07d9282-0   \n",
       "1  e-0-4ad4c062f964a52011f820e3-1   \n",
       "2  e-0-4b8daea1f964a520480833e3-2   \n",
       "3  e-0-4df91c4bae60f95f82229ad5-3   \n",
       "\n",
       "                                    venue.categories  \\\n",
       "0  [{'id': '4bf58dd8d48988d159941735', 'name': 'T...   \n",
       "1  [{'id': '50aa9e744b90af0d42d5de0e', 'name': 'H...   \n",
       "2  [{'id': '4bf58dd8d48988d11b941735', 'name': 'P...   \n",
       "3  [{'id': '4f2a25ac4b909258e854f55f', 'name': 'N...   \n",
       "\n",
       "                   venue.id venue.location.address venue.location.cc  \\\n",
       "0  4bd461bc77b29c74a07d9282             Glen Manor                CA   \n",
       "1  4ad4c062f964a52011f820e3       125 Southwood Dr                CA   \n",
       "2  4b8daea1f964a520480833e3       676 Kingston Rd.                CA   \n",
       "3  4df91c4bae60f95f82229ad5                    NaN                CA   \n",
       "\n",
       "  venue.location.city venue.location.country venue.location.crossStreet  \\\n",
       "0             Toronto                 Canada                  Queen St.   \n",
       "1             Toronto                 Canada                        NaN   \n",
       "2             Toronto                 Canada                at Main St.   \n",
       "3             Toronto                 Canada                        NaN   \n",
       "\n",
       "         ...                            venue.location.formattedAddress  \\\n",
       "0        ...               [Glen Manor (Queen St.), Toronto ON, Canada]   \n",
       "1        ...             [125 Southwood Dr, Toronto ON M4E 0B8, Canada]   \n",
       "2        ...          [676 Kingston Rd. (at Main St.), Toronto ON M4...   \n",
       "3        ...                                       [Toronto ON, Canada]   \n",
       "\n",
       "                       venue.location.labeledLatLngs venue.location.lat  \\\n",
       "0  [{'label': 'display', 'lat': 43.67682094413784...          43.676821   \n",
       "1  [{'label': 'display', 'lat': 43.678879, 'lng':...          43.678879   \n",
       "2  [{'label': 'display', 'lat': 43.67918143494101...          43.679181   \n",
       "3  [{'label': 'display', 'lat': 43.68056321147582...          43.680563   \n",
       "\n",
       "   venue.location.lng  venue.location.postalCode venue.location.state  \\\n",
       "0          -79.293942                        NaN                   ON   \n",
       "1          -79.297734                    M4E 0B8                   ON   \n",
       "2          -79.297215                    M4E 1R4                   ON   \n",
       "3          -79.292869                        NaN                   ON   \n",
       "\n",
       "                           venue.name venue.photos.count  venue.photos.groups  \\\n",
       "0                   Glen Manor Ravine                  0                   []   \n",
       "1  The Big Carrot Natural Food Market                  0                   []   \n",
       "2                 Grover Pub and Grub                  0                   []   \n",
       "3                       Upper Beaches                  0                   []   \n",
       "\n",
       "  venue.venuePage.id  \n",
       "0                NaN  \n",
       "1           75150878  \n",
       "2                NaN  \n",
       "3                NaN  \n",
       "\n",
       "[4 rows x 21 columns]"
      ]
     },
     "execution_count": 24,
     "metadata": {},
     "output_type": "execute_result"
    }
   ],
   "source": [
    "neighborhood_venues = json_normalize(venues)\n",
    "neighborhood_venues"
   ]
  },
  {
   "cell_type": "markdown",
   "metadata": {},
   "source": [
    "This neighborhood only seems to have 4 venues. Let us go ahead and explore it further."
   ]
  },
  {
   "cell_type": "code",
   "execution_count": 25,
   "metadata": {},
   "outputs": [
    {
     "data": {
      "text/html": [
       "<div>\n",
       "<style>\n",
       "    .dataframe thead tr:only-child th {\n",
       "        text-align: right;\n",
       "    }\n",
       "\n",
       "    .dataframe thead th {\n",
       "        text-align: left;\n",
       "    }\n",
       "\n",
       "    .dataframe tbody tr th {\n",
       "        vertical-align: top;\n",
       "    }\n",
       "</style>\n",
       "<table border=\"1\" class=\"dataframe\">\n",
       "  <thead>\n",
       "    <tr style=\"text-align: right;\">\n",
       "      <th></th>\n",
       "      <th>venue.name</th>\n",
       "      <th>venue.categories</th>\n",
       "      <th>venue.location.lat</th>\n",
       "      <th>venue.location.lng</th>\n",
       "    </tr>\n",
       "  </thead>\n",
       "  <tbody>\n",
       "    <tr>\n",
       "      <th>0</th>\n",
       "      <td>Glen Manor Ravine</td>\n",
       "      <td>[{'id': '4bf58dd8d48988d159941735', 'name': 'T...</td>\n",
       "      <td>43.676821</td>\n",
       "      <td>-79.293942</td>\n",
       "    </tr>\n",
       "    <tr>\n",
       "      <th>1</th>\n",
       "      <td>The Big Carrot Natural Food Market</td>\n",
       "      <td>[{'id': '50aa9e744b90af0d42d5de0e', 'name': 'H...</td>\n",
       "      <td>43.678879</td>\n",
       "      <td>-79.297734</td>\n",
       "    </tr>\n",
       "    <tr>\n",
       "      <th>2</th>\n",
       "      <td>Grover Pub and Grub</td>\n",
       "      <td>[{'id': '4bf58dd8d48988d11b941735', 'name': 'P...</td>\n",
       "      <td>43.679181</td>\n",
       "      <td>-79.297215</td>\n",
       "    </tr>\n",
       "    <tr>\n",
       "      <th>3</th>\n",
       "      <td>Upper Beaches</td>\n",
       "      <td>[{'id': '4f2a25ac4b909258e854f55f', 'name': 'N...</td>\n",
       "      <td>43.680563</td>\n",
       "      <td>-79.292869</td>\n",
       "    </tr>\n",
       "  </tbody>\n",
       "</table>\n",
       "</div>"
      ],
      "text/plain": [
       "                           venue.name  \\\n",
       "0                   Glen Manor Ravine   \n",
       "1  The Big Carrot Natural Food Market   \n",
       "2                 Grover Pub and Grub   \n",
       "3                       Upper Beaches   \n",
       "\n",
       "                                    venue.categories  venue.location.lat  \\\n",
       "0  [{'id': '4bf58dd8d48988d159941735', 'name': 'T...           43.676821   \n",
       "1  [{'id': '50aa9e744b90af0d42d5de0e', 'name': 'H...           43.678879   \n",
       "2  [{'id': '4bf58dd8d48988d11b941735', 'name': 'P...           43.679181   \n",
       "3  [{'id': '4f2a25ac4b909258e854f55f', 'name': 'N...           43.680563   \n",
       "\n",
       "   venue.location.lng  \n",
       "0          -79.293942  \n",
       "1          -79.297734  \n",
       "2          -79.297215  \n",
       "3          -79.292869  "
      ]
     },
     "execution_count": 25,
     "metadata": {},
     "output_type": "execute_result"
    }
   ],
   "source": [
    "venue_columns = ['venue.name', 'venue.categories', 'venue.location.lat', 'venue.location.lng']\n",
    "neighborhood_venues = neighborhood_venues.loc[:, venue_columns]\n",
    "neighborhood_venues"
   ]
  },
  {
   "cell_type": "code",
   "execution_count": 26,
   "metadata": {},
   "outputs": [
    {
     "data": {
      "text/html": [
       "<div>\n",
       "<style>\n",
       "    .dataframe thead tr:only-child th {\n",
       "        text-align: right;\n",
       "    }\n",
       "\n",
       "    .dataframe thead th {\n",
       "        text-align: left;\n",
       "    }\n",
       "\n",
       "    .dataframe tbody tr th {\n",
       "        vertical-align: top;\n",
       "    }\n",
       "</style>\n",
       "<table border=\"1\" class=\"dataframe\">\n",
       "  <thead>\n",
       "    <tr style=\"text-align: right;\">\n",
       "      <th></th>\n",
       "      <th>name</th>\n",
       "      <th>categories</th>\n",
       "      <th>lat</th>\n",
       "      <th>lng</th>\n",
       "    </tr>\n",
       "  </thead>\n",
       "  <tbody>\n",
       "    <tr>\n",
       "      <th>0</th>\n",
       "      <td>Glen Manor Ravine</td>\n",
       "      <td>[{'id': '4bf58dd8d48988d159941735', 'name': 'T...</td>\n",
       "      <td>43.676821</td>\n",
       "      <td>-79.293942</td>\n",
       "    </tr>\n",
       "    <tr>\n",
       "      <th>1</th>\n",
       "      <td>The Big Carrot Natural Food Market</td>\n",
       "      <td>[{'id': '50aa9e744b90af0d42d5de0e', 'name': 'H...</td>\n",
       "      <td>43.678879</td>\n",
       "      <td>-79.297734</td>\n",
       "    </tr>\n",
       "    <tr>\n",
       "      <th>2</th>\n",
       "      <td>Grover Pub and Grub</td>\n",
       "      <td>[{'id': '4bf58dd8d48988d11b941735', 'name': 'P...</td>\n",
       "      <td>43.679181</td>\n",
       "      <td>-79.297215</td>\n",
       "    </tr>\n",
       "    <tr>\n",
       "      <th>3</th>\n",
       "      <td>Upper Beaches</td>\n",
       "      <td>[{'id': '4f2a25ac4b909258e854f55f', 'name': 'N...</td>\n",
       "      <td>43.680563</td>\n",
       "      <td>-79.292869</td>\n",
       "    </tr>\n",
       "  </tbody>\n",
       "</table>\n",
       "</div>"
      ],
      "text/plain": [
       "                                 name  \\\n",
       "0                   Glen Manor Ravine   \n",
       "1  The Big Carrot Natural Food Market   \n",
       "2                 Grover Pub and Grub   \n",
       "3                       Upper Beaches   \n",
       "\n",
       "                                          categories        lat        lng  \n",
       "0  [{'id': '4bf58dd8d48988d159941735', 'name': 'T...  43.676821 -79.293942  \n",
       "1  [{'id': '50aa9e744b90af0d42d5de0e', 'name': 'H...  43.678879 -79.297734  \n",
       "2  [{'id': '4bf58dd8d48988d11b941735', 'name': 'P...  43.679181 -79.297215  \n",
       "3  [{'id': '4f2a25ac4b909258e854f55f', 'name': 'N...  43.680563 -79.292869  "
      ]
     },
     "execution_count": 26,
     "metadata": {},
     "output_type": "execute_result"
    }
   ],
   "source": [
    "neighborhood_venues.columns = [column.split(\".\")[-1] for column in neighborhood_venues.columns]\n",
    "neighborhood_venues"
   ]
  },
  {
   "cell_type": "code",
   "execution_count": 27,
   "metadata": {},
   "outputs": [],
   "source": [
    "def get_category(row):\n",
    "    categories_list = row['categories']\n",
    "    if categories_list:\n",
    "        return categories_list[0]['name']\n",
    "    return None"
   ]
  },
  {
   "cell_type": "code",
   "execution_count": 28,
   "metadata": {},
   "outputs": [
    {
     "data": {
      "text/html": [
       "<div>\n",
       "<style>\n",
       "    .dataframe thead tr:only-child th {\n",
       "        text-align: right;\n",
       "    }\n",
       "\n",
       "    .dataframe thead th {\n",
       "        text-align: left;\n",
       "    }\n",
       "\n",
       "    .dataframe tbody tr th {\n",
       "        vertical-align: top;\n",
       "    }\n",
       "</style>\n",
       "<table border=\"1\" class=\"dataframe\">\n",
       "  <thead>\n",
       "    <tr style=\"text-align: right;\">\n",
       "      <th></th>\n",
       "      <th>name</th>\n",
       "      <th>categories</th>\n",
       "      <th>lat</th>\n",
       "      <th>lng</th>\n",
       "    </tr>\n",
       "  </thead>\n",
       "  <tbody>\n",
       "    <tr>\n",
       "      <th>0</th>\n",
       "      <td>Glen Manor Ravine</td>\n",
       "      <td>Trail</td>\n",
       "      <td>43.676821</td>\n",
       "      <td>-79.293942</td>\n",
       "    </tr>\n",
       "    <tr>\n",
       "      <th>1</th>\n",
       "      <td>The Big Carrot Natural Food Market</td>\n",
       "      <td>Health Food Store</td>\n",
       "      <td>43.678879</td>\n",
       "      <td>-79.297734</td>\n",
       "    </tr>\n",
       "    <tr>\n",
       "      <th>2</th>\n",
       "      <td>Grover Pub and Grub</td>\n",
       "      <td>Pub</td>\n",
       "      <td>43.679181</td>\n",
       "      <td>-79.297215</td>\n",
       "    </tr>\n",
       "    <tr>\n",
       "      <th>3</th>\n",
       "      <td>Upper Beaches</td>\n",
       "      <td>Neighborhood</td>\n",
       "      <td>43.680563</td>\n",
       "      <td>-79.292869</td>\n",
       "    </tr>\n",
       "  </tbody>\n",
       "</table>\n",
       "</div>"
      ],
      "text/plain": [
       "                                 name         categories        lat        lng\n",
       "0                   Glen Manor Ravine              Trail  43.676821 -79.293942\n",
       "1  The Big Carrot Natural Food Market  Health Food Store  43.678879 -79.297734\n",
       "2                 Grover Pub and Grub                Pub  43.679181 -79.297215\n",
       "3                       Upper Beaches       Neighborhood  43.680563 -79.292869"
      ]
     },
     "execution_count": 28,
     "metadata": {},
     "output_type": "execute_result"
    }
   ],
   "source": [
    "neighborhood_venues['categories'] = neighborhood_venues.apply(get_category, axis=1)\n",
    "neighborhood_venues"
   ]
  },
  {
   "cell_type": "markdown",
   "metadata": {},
   "source": [
    "### Explore neighborhoods in Toronto"
   ]
  },
  {
   "cell_type": "code",
   "execution_count": 30,
   "metadata": {},
   "outputs": [
    {
     "ename": "IndentationError",
     "evalue": "unexpected indent (<ipython-input-30-b29ed04cea16>, line 13)",
     "output_type": "error",
     "traceback": [
      "\u001b[0;36m  File \u001b[0;32m\"<ipython-input-30-b29ed04cea16>\"\u001b[0;36m, line \u001b[0;32m13\u001b[0m\n\u001b[0;31m    neighborhood_venues = requests.get(url).json()[\"response\"]['groups'][0]['items']\u001b[0m\n\u001b[0m    ^\u001b[0m\n\u001b[0;31mIndentationError\u001b[0m\u001b[0;31m:\u001b[0m unexpected indent\n"
     ]
    }
   ],
   "source": [
    "venues_list = list()\n",
    "\n",
    "for name, lat, lng in zip(toronto_data['Neighborhood'], toronto_data['Latitude'], toronto_data['Longitude']):\n",
    "    print(\"Collecting venues for neighborhood:\", name)\n",
    "    \n",
    "    limit = 100\n",
    "    radius = 500\n",
    "    explore_url_prefix = 'https://api.foursquare.com/v2/venues/explore'\n",
    "    url = '{}?&client_id={}&client_secret={}&v={}&ll={},{}&radius={}&limit={}'.format(\n",
    "        explore_url_prefix, CLIENT_ID, CLIENT_SECRET, VERSION, \n",
    "        lat, lng, radius, limit)\n",
    "    \n",
    "       neighborhood_venues = requests.get(url).json()[\"response\"]['groups'][0]['items']\n",
    "    \n",
    "        venues_list.extend([(\n",
    "        name, lat, lng,\n",
    "        v['venue']['name'], \n",
    "        v['venue']['location']['lat'], \n",
    "        v['venue']['location']['lng'],  \n",
    "        v['venue']['categories'][0]['name']) for v in neighborhood_venues])\n",
    "\n",
    "print(\"Done\")"
   ]
  },
  {
   "cell_type": "code",
   "execution_count": 31,
   "metadata": {},
   "outputs": [
    {
     "ename": "NameError",
     "evalue": "name 'venues_list' is not defined",
     "output_type": "error",
     "traceback": [
      "\u001b[0;31m---------------------------------------------------------------------------\u001b[0m",
      "\u001b[0;31mNameError\u001b[0m                                 Traceback (most recent call last)",
      "\u001b[0;32m<ipython-input-31-6667ad8d3dcc>\u001b[0m in \u001b[0;36m<module>\u001b[0;34m()\u001b[0m\n\u001b[0;32m----> 1\u001b[0;31m \u001b[0mlen\u001b[0m\u001b[0;34m(\u001b[0m\u001b[0mvenues_list\u001b[0m\u001b[0;34m)\u001b[0m\u001b[0;34m\u001b[0m\u001b[0m\n\u001b[0m",
      "\u001b[0;31mNameError\u001b[0m: name 'venues_list' is not defined"
     ]
    }
   ],
   "source": [
    "len(venues_list)"
   ]
  },
  {
   "cell_type": "code",
   "execution_count": 32,
   "metadata": {},
   "outputs": [
    {
     "ename": "NameError",
     "evalue": "name 'venues_list' is not defined",
     "output_type": "error",
     "traceback": [
      "\u001b[0;31m---------------------------------------------------------------------------\u001b[0m",
      "\u001b[0;31mNameError\u001b[0m                                 Traceback (most recent call last)",
      "\u001b[0;32m<ipython-input-32-369ae312ec51>\u001b[0m in \u001b[0;36m<module>\u001b[0;34m()\u001b[0m\n\u001b[0;32m----> 1\u001b[0;31m \u001b[0mtoronto_venues\u001b[0m \u001b[0;34m=\u001b[0m \u001b[0mpd\u001b[0m\u001b[0;34m.\u001b[0m\u001b[0mDataFrame\u001b[0m\u001b[0;34m(\u001b[0m\u001b[0mvenues_list\u001b[0m\u001b[0;34m)\u001b[0m\u001b[0;34m\u001b[0m\u001b[0m\n\u001b[0m\u001b[1;32m      2\u001b[0m toronto_venues.columns = [\n\u001b[1;32m      3\u001b[0m     \u001b[0;34m'Neighborhood'\u001b[0m\u001b[0;34m,\u001b[0m \u001b[0;34m'Neighborhood Latitude'\u001b[0m\u001b[0;34m,\u001b[0m \u001b[0;34m'Neighborhood Longitude'\u001b[0m\u001b[0;34m,\u001b[0m\u001b[0;34m\u001b[0m\u001b[0m\n\u001b[1;32m      4\u001b[0m     'Venue', 'Venue Latitude', 'Venue Longitude', 'Venue Category']\n",
      "\u001b[0;31mNameError\u001b[0m: name 'venues_list' is not defined"
     ]
    }
   ],
   "source": [
    "toronto_venues = pd.DataFrame(venues_list)\n",
    "toronto_venues.columns = [\n",
    "    'Neighborhood', 'Neighborhood Latitude', 'Neighborhood Longitude', \n",
    "    'Venue', 'Venue Latitude', 'Venue Longitude', 'Venue Category']"
   ]
  },
  {
   "cell_type": "code",
   "execution_count": 33,
   "metadata": {},
   "outputs": [
    {
     "ename": "NameError",
     "evalue": "name 'toronto_venues' is not defined",
     "output_type": "error",
     "traceback": [
      "\u001b[0;31m---------------------------------------------------------------------------\u001b[0m",
      "\u001b[0;31mNameError\u001b[0m                                 Traceback (most recent call last)",
      "\u001b[0;32m<ipython-input-33-bb5995a629c6>\u001b[0m in \u001b[0;36m<module>\u001b[0;34m()\u001b[0m\n\u001b[0;32m----> 1\u001b[0;31m \u001b[0mprint\u001b[0m\u001b[0;34m(\u001b[0m\u001b[0mtoronto_venues\u001b[0m\u001b[0;34m.\u001b[0m\u001b[0mshape\u001b[0m\u001b[0;34m)\u001b[0m\u001b[0;34m\u001b[0m\u001b[0m\n\u001b[0m\u001b[1;32m      2\u001b[0m \u001b[0mtoronto_venues\u001b[0m\u001b[0;34m.\u001b[0m\u001b[0mhead\u001b[0m\u001b[0;34m(\u001b[0m\u001b[0;34m)\u001b[0m\u001b[0;34m\u001b[0m\u001b[0m\n",
      "\u001b[0;31mNameError\u001b[0m: name 'toronto_venues' is not defined"
     ]
    }
   ],
   "source": [
    "print(toronto_venues.shape)\n",
    "toronto_venues.head()"
   ]
  },
  {
   "cell_type": "markdown",
   "metadata": {},
   "source": [
    "Let us check the number of venues in each neighborhood."
   ]
  },
  {
   "cell_type": "code",
   "execution_count": 34,
   "metadata": {},
   "outputs": [
    {
     "ename": "NameError",
     "evalue": "name 'toronto_venues' is not defined",
     "output_type": "error",
     "traceback": [
      "\u001b[0;31m---------------------------------------------------------------------------\u001b[0m",
      "\u001b[0;31mNameError\u001b[0m                                 Traceback (most recent call last)",
      "\u001b[0;32m<ipython-input-34-d6c696fe3766>\u001b[0m in \u001b[0;36m<module>\u001b[0;34m()\u001b[0m\n\u001b[0;32m----> 1\u001b[0;31m \u001b[0mtoronto_venues\u001b[0m\u001b[0;34m.\u001b[0m\u001b[0mgroupby\u001b[0m\u001b[0;34m(\u001b[0m\u001b[0;34m'Neighborhood'\u001b[0m\u001b[0;34m)\u001b[0m\u001b[0;34m.\u001b[0m\u001b[0mcount\u001b[0m\u001b[0;34m(\u001b[0m\u001b[0;34m)\u001b[0m\u001b[0;34m\u001b[0m\u001b[0m\n\u001b[0m",
      "\u001b[0;31mNameError\u001b[0m: name 'toronto_venues' is not defined"
     ]
    }
   ],
   "source": [
    "toronto_venues.groupby('Neighborhood').count()"
   ]
  },
  {
   "cell_type": "markdown",
   "metadata": {},
   "source": [
    "Let us find how many unique venue categories we have."
   ]
  },
  {
   "cell_type": "markdown",
   "metadata": {},
   "source": [
    "### Analyze each neighborhood"
   ]
  },
  {
   "cell_type": "code",
   "execution_count": 35,
   "metadata": {},
   "outputs": [
    {
     "ename": "NameError",
     "evalue": "name 'toronto_venues' is not defined",
     "output_type": "error",
     "traceback": [
      "\u001b[0;31m---------------------------------------------------------------------------\u001b[0m",
      "\u001b[0;31mNameError\u001b[0m                                 Traceback (most recent call last)",
      "\u001b[0;32m<ipython-input-35-ce554ecdad70>\u001b[0m in \u001b[0;36m<module>\u001b[0;34m()\u001b[0m\n\u001b[0;32m----> 1\u001b[0;31m \u001b[0mtoronto_onehot\u001b[0m \u001b[0;34m=\u001b[0m \u001b[0mpd\u001b[0m\u001b[0;34m.\u001b[0m\u001b[0mget_dummies\u001b[0m\u001b[0;34m(\u001b[0m\u001b[0mtoronto_venues\u001b[0m\u001b[0;34m[\u001b[0m\u001b[0;34m[\u001b[0m\u001b[0;34m'Venue Category'\u001b[0m\u001b[0;34m]\u001b[0m\u001b[0;34m]\u001b[0m\u001b[0;34m,\u001b[0m \u001b[0mprefix\u001b[0m\u001b[0;34m=\u001b[0m\u001b[0;34m\"\"\u001b[0m\u001b[0;34m,\u001b[0m \u001b[0mprefix_sep\u001b[0m\u001b[0;34m=\u001b[0m\u001b[0;34m\"\"\u001b[0m\u001b[0;34m)\u001b[0m\u001b[0;34m\u001b[0m\u001b[0m\n\u001b[0m\u001b[1;32m      2\u001b[0m \u001b[0mtoronto_onehot\u001b[0m\u001b[0;34m.\u001b[0m\u001b[0mhead\u001b[0m\u001b[0;34m(\u001b[0m\u001b[0;34m)\u001b[0m\u001b[0;34m\u001b[0m\u001b[0m\n",
      "\u001b[0;31mNameError\u001b[0m: name 'toronto_venues' is not defined"
     ]
    }
   ],
   "source": [
    "toronto_onehot = pd.get_dummies(toronto_venues[['Venue Category']], prefix=\"\", prefix_sep=\"\")\n",
    "toronto_onehot.head()"
   ]
  },
  {
   "cell_type": "code",
   "execution_count": 36,
   "metadata": {},
   "outputs": [
    {
     "ename": "NameError",
     "evalue": "name 'toronto_onehot' is not defined",
     "output_type": "error",
     "traceback": [
      "\u001b[0;31m---------------------------------------------------------------------------\u001b[0m",
      "\u001b[0;31mNameError\u001b[0m                                 Traceback (most recent call last)",
      "\u001b[0;32m<ipython-input-36-af0a95faca16>\u001b[0m in \u001b[0;36m<module>\u001b[0;34m()\u001b[0m\n\u001b[0;32m----> 1\u001b[0;31m \u001b[0mtoronto_onehot\u001b[0m\u001b[0;34m.\u001b[0m\u001b[0minsert\u001b[0m\u001b[0;34m(\u001b[0m\u001b[0;36m0\u001b[0m\u001b[0;34m,\u001b[0m \u001b[0;34m'NeighborhoodName'\u001b[0m\u001b[0;34m,\u001b[0m \u001b[0mtoronto_venues\u001b[0m\u001b[0;34m[\u001b[0m\u001b[0;34m'Neighborhood'\u001b[0m\u001b[0;34m]\u001b[0m\u001b[0;34m)\u001b[0m\u001b[0;34m\u001b[0m\u001b[0m\n\u001b[0m\u001b[1;32m      2\u001b[0m \u001b[0mtoronto_onehot\u001b[0m\u001b[0;34m.\u001b[0m\u001b[0mhead\u001b[0m\u001b[0;34m(\u001b[0m\u001b[0;34m)\u001b[0m\u001b[0;34m\u001b[0m\u001b[0m\n",
      "\u001b[0;31mNameError\u001b[0m: name 'toronto_onehot' is not defined"
     ]
    }
   ],
   "source": [
    "toronto_onehot.insert(0, 'NeighborhoodName', toronto_venues['Neighborhood']) \n",
    "toronto_onehot.head()"
   ]
  },
  {
   "cell_type": "code",
   "execution_count": 37,
   "metadata": {},
   "outputs": [
    {
     "ename": "NameError",
     "evalue": "name 'toronto_onehot' is not defined",
     "output_type": "error",
     "traceback": [
      "\u001b[0;31m---------------------------------------------------------------------------\u001b[0m",
      "\u001b[0;31mNameError\u001b[0m                                 Traceback (most recent call last)",
      "\u001b[0;32m<ipython-input-37-0142ac025fe1>\u001b[0m in \u001b[0;36m<module>\u001b[0;34m()\u001b[0m\n\u001b[0;32m----> 1\u001b[0;31m \u001b[0mtoronto_onehot\u001b[0m\u001b[0;34m.\u001b[0m\u001b[0mshape\u001b[0m\u001b[0;34m\u001b[0m\u001b[0m\n\u001b[0m",
      "\u001b[0;31mNameError\u001b[0m: name 'toronto_onehot' is not defined"
     ]
    }
   ],
   "source": [
    "toronto_onehot.shape"
   ]
  },
  {
   "cell_type": "code",
   "execution_count": 38,
   "metadata": {},
   "outputs": [
    {
     "ename": "NameError",
     "evalue": "name 'toronto_onehot' is not defined",
     "output_type": "error",
     "traceback": [
      "\u001b[0;31m---------------------------------------------------------------------------\u001b[0m",
      "\u001b[0;31mNameError\u001b[0m                                 Traceback (most recent call last)",
      "\u001b[0;32m<ipython-input-38-4e722af0fadb>\u001b[0m in \u001b[0;36m<module>\u001b[0;34m()\u001b[0m\n\u001b[0;32m----> 1\u001b[0;31m \u001b[0mvenues_count\u001b[0m\u001b[0;34m,\u001b[0m \u001b[0mcategories_count\u001b[0m \u001b[0;34m=\u001b[0m \u001b[0mtoronto_onehot\u001b[0m\u001b[0;34m.\u001b[0m\u001b[0mshape\u001b[0m\u001b[0;34m\u001b[0m\u001b[0m\n\u001b[0m\u001b[1;32m      2\u001b[0m print(\"So we have {} different venues and {} venue categories.\".format(\n\u001b[1;32m      3\u001b[0m     venues_count, categories_count))\n",
      "\u001b[0;31mNameError\u001b[0m: name 'toronto_onehot' is not defined"
     ]
    }
   ],
   "source": [
    "venues_count, categories_count = toronto_onehot.shape\n",
    "print(\"So we have {} different venues and {} venue categories.\".format(\n",
    "    venues_count, categories_count))"
   ]
  },
  {
   "cell_type": "markdown",
   "metadata": {},
   "source": [
    "Now we will group the rows by neighborhood name and by calculating the mean of the frequency of occurence of each category.¶"
   ]
  },
  {
   "cell_type": "code",
   "execution_count": 39,
   "metadata": {},
   "outputs": [
    {
     "ename": "NameError",
     "evalue": "name 'toronto_onehot' is not defined",
     "output_type": "error",
     "traceback": [
      "\u001b[0;31m---------------------------------------------------------------------------\u001b[0m",
      "\u001b[0;31mNameError\u001b[0m                                 Traceback (most recent call last)",
      "\u001b[0;32m<ipython-input-39-eac7cae4f266>\u001b[0m in \u001b[0;36m<module>\u001b[0;34m()\u001b[0m\n\u001b[0;32m----> 1\u001b[0;31m \u001b[0mtoronto_grouped\u001b[0m \u001b[0;34m=\u001b[0m \u001b[0mtoronto_onehot\u001b[0m\u001b[0;34m.\u001b[0m\u001b[0mgroupby\u001b[0m\u001b[0;34m(\u001b[0m\u001b[0;34m'NeighborhoodName'\u001b[0m\u001b[0;34m)\u001b[0m\u001b[0;34m.\u001b[0m\u001b[0mmean\u001b[0m\u001b[0;34m(\u001b[0m\u001b[0;34m)\u001b[0m\u001b[0;34m.\u001b[0m\u001b[0mreset_index\u001b[0m\u001b[0;34m(\u001b[0m\u001b[0;34m)\u001b[0m\u001b[0;34m\u001b[0m\u001b[0m\n\u001b[0m\u001b[1;32m      2\u001b[0m \u001b[0mtoronto_grouped\u001b[0m\u001b[0;34m\u001b[0m\u001b[0m\n",
      "\u001b[0;31mNameError\u001b[0m: name 'toronto_onehot' is not defined"
     ]
    }
   ],
   "source": [
    "toronto_grouped = toronto_onehot.groupby('NeighborhoodName').mean().reset_index()\n",
    "toronto_grouped"
   ]
  },
  {
   "cell_type": "markdown",
   "metadata": {},
   "source": [
    "The dataframe has 38 rows and 238 columns, which is as expected,i.e., 38 neighborhoods and 238 categories."
   ]
  },
  {
   "cell_type": "markdown",
   "metadata": {},
   "source": [
    "Now we will print each of the neighborhoods with the top 5 most common venues in them"
   ]
  },
  {
   "cell_type": "code",
   "execution_count": 40,
   "metadata": {},
   "outputs": [
    {
     "ename": "NameError",
     "evalue": "name 'toronto_grouped' is not defined",
     "output_type": "error",
     "traceback": [
      "\u001b[0;31m---------------------------------------------------------------------------\u001b[0m",
      "\u001b[0;31mNameError\u001b[0m                                 Traceback (most recent call last)",
      "\u001b[0;32m<ipython-input-40-6eefed7ef9de>\u001b[0m in \u001b[0;36m<module>\u001b[0;34m()\u001b[0m\n\u001b[1;32m      1\u001b[0m \u001b[0mnum_top_venues\u001b[0m \u001b[0;34m=\u001b[0m \u001b[0;36m5\u001b[0m\u001b[0;34m\u001b[0m\u001b[0m\n\u001b[0;32m----> 2\u001b[0;31m \u001b[0;32mfor\u001b[0m \u001b[0mneighborhood\u001b[0m \u001b[0;32min\u001b[0m \u001b[0mtoronto_grouped\u001b[0m\u001b[0;34m[\u001b[0m\u001b[0;34m'NeighborhoodName'\u001b[0m\u001b[0;34m]\u001b[0m\u001b[0;34m:\u001b[0m\u001b[0;34m\u001b[0m\u001b[0m\n\u001b[0m\u001b[1;32m      3\u001b[0m     \u001b[0mprint\u001b[0m\u001b[0;34m(\u001b[0m\u001b[0;34m\"------{}------\"\u001b[0m\u001b[0;34m.\u001b[0m\u001b[0mformat\u001b[0m\u001b[0;34m(\u001b[0m\u001b[0mneighborhood\u001b[0m\u001b[0;34m)\u001b[0m\u001b[0;34m)\u001b[0m\u001b[0;34m\u001b[0m\u001b[0m\n\u001b[1;32m      4\u001b[0m     \u001b[0mtemp\u001b[0m \u001b[0;34m=\u001b[0m \u001b[0mtoronto_grouped\u001b[0m\u001b[0;34m[\u001b[0m\u001b[0mtoronto_grouped\u001b[0m\u001b[0;34m[\u001b[0m\u001b[0;34m'NeighborhoodName'\u001b[0m\u001b[0;34m]\u001b[0m \u001b[0;34m==\u001b[0m \u001b[0mneighborhood\u001b[0m\u001b[0;34m]\u001b[0m\u001b[0;34m.\u001b[0m\u001b[0mT\u001b[0m\u001b[0;34m.\u001b[0m\u001b[0mreset_index\u001b[0m\u001b[0;34m(\u001b[0m\u001b[0;34m)\u001b[0m\u001b[0;34m\u001b[0m\u001b[0m\n\u001b[1;32m      5\u001b[0m     \u001b[0mtemp\u001b[0m\u001b[0;34m.\u001b[0m\u001b[0mcolumns\u001b[0m \u001b[0;34m=\u001b[0m \u001b[0;34m[\u001b[0m\u001b[0;34m'venue'\u001b[0m\u001b[0;34m,\u001b[0m\u001b[0;34m'freq'\u001b[0m\u001b[0;34m]\u001b[0m\u001b[0;34m\u001b[0m\u001b[0m\n",
      "\u001b[0;31mNameError\u001b[0m: name 'toronto_grouped' is not defined"
     ]
    }
   ],
   "source": [
    "num_top_venues = 5\n",
    "for neighborhood in toronto_grouped['NeighborhoodName']:\n",
    "    print(\"------{}------\".format(neighborhood))\n",
    "    temp = toronto_grouped[toronto_grouped['NeighborhoodName'] == neighborhood].T.reset_index()\n",
    "    temp.columns = ['venue','freq']\n",
    "    temp = temp.iloc[1:]\n",
    "    temp['freq'] = temp['freq'].astype(float)\n",
    "    temp = temp.round({'freq': 2})\n",
    "    print(temp.sort_values('freq', ascending=False).reset_index(drop=True).head(num_top_venues))\n",
    "    print('\\n')"
   ]
  },
  {
   "cell_type": "markdown",
   "metadata": {},
   "source": [
    "Next we will create a pandas dataframe with the top 10 most common venues in each neighborhood  \n",
    "Function to sort venues in descending order of their frequency."
   ]
  },
  {
   "cell_type": "code",
   "execution_count": 41,
   "metadata": {},
   "outputs": [],
   "source": [
    "def return_most_common_venues(row, num_top_venues):\n",
    "    row_categories = row.iloc[1:]\n",
    "    row_categories_sorted = row_categories.sort_values(ascending=False)\n",
    "    \n",
    "    return row_categories_sorted.index.values[0:num_top_venues]"
   ]
  },
  {
   "cell_type": "markdown",
   "metadata": {},
   "source": [
    "Now we will create the dataframe."
   ]
  },
  {
   "cell_type": "code",
   "execution_count": 42,
   "metadata": {},
   "outputs": [
    {
     "ename": "NameError",
     "evalue": "name 'toronto_grouped' is not defined",
     "output_type": "error",
     "traceback": [
      "\u001b[0;31m---------------------------------------------------------------------------\u001b[0m",
      "\u001b[0;31mNameError\u001b[0m                                 Traceback (most recent call last)",
      "\u001b[0;32m<ipython-input-42-44784f2ca7e7>\u001b[0m in \u001b[0;36m<module>\u001b[0;34m()\u001b[0m\n\u001b[1;32m     11\u001b[0m \u001b[0;34m\u001b[0m\u001b[0m\n\u001b[1;32m     12\u001b[0m \u001b[0mneighborhoods_venues_sorted\u001b[0m \u001b[0;34m=\u001b[0m \u001b[0mpd\u001b[0m\u001b[0;34m.\u001b[0m\u001b[0mDataFrame\u001b[0m\u001b[0;34m(\u001b[0m\u001b[0mcolumns\u001b[0m\u001b[0;34m=\u001b[0m\u001b[0mcolumns\u001b[0m\u001b[0;34m)\u001b[0m\u001b[0;34m\u001b[0m\u001b[0m\n\u001b[0;32m---> 13\u001b[0;31m \u001b[0mneighborhoods_venues_sorted\u001b[0m\u001b[0;34m[\u001b[0m\u001b[0;34m'Neighborhood'\u001b[0m\u001b[0;34m]\u001b[0m \u001b[0;34m=\u001b[0m \u001b[0mtoronto_grouped\u001b[0m\u001b[0;34m[\u001b[0m\u001b[0;34m'NeighborhoodName'\u001b[0m\u001b[0;34m]\u001b[0m\u001b[0;34m\u001b[0m\u001b[0m\n\u001b[0m\u001b[1;32m     14\u001b[0m \u001b[0;34m\u001b[0m\u001b[0m\n\u001b[1;32m     15\u001b[0m \u001b[0;32mfor\u001b[0m \u001b[0mind\u001b[0m \u001b[0;32min\u001b[0m \u001b[0mnp\u001b[0m\u001b[0;34m.\u001b[0m\u001b[0marange\u001b[0m\u001b[0;34m(\u001b[0m\u001b[0mtoronto_grouped\u001b[0m\u001b[0;34m.\u001b[0m\u001b[0mshape\u001b[0m\u001b[0;34m[\u001b[0m\u001b[0;36m0\u001b[0m\u001b[0;34m]\u001b[0m\u001b[0;34m)\u001b[0m\u001b[0;34m:\u001b[0m\u001b[0;34m\u001b[0m\u001b[0m\n",
      "\u001b[0;31mNameError\u001b[0m: name 'toronto_grouped' is not defined"
     ]
    }
   ],
   "source": [
    "num_top_venues = 10\n",
    "\n",
    "indicators = ['st', 'nd', 'rd']\n",
    "\n",
    "columns = ['Neighborhood']\n",
    "for ind in np.arange(num_top_venues):\n",
    "    try:\n",
    "        columns.append('{}{} Most Common Venue'.format(ind+1, indicators[ind]))\n",
    "    except:\n",
    "        columns.append('{}th Most Common Venue'.format(ind+1))\n",
    "\n",
    "neighborhoods_venues_sorted = pd.DataFrame(columns=columns)\n",
    "neighborhoods_venues_sorted['Neighborhood'] = toronto_grouped['NeighborhoodName']\n",
    "\n",
    "for ind in np.arange(toronto_grouped.shape[0]):\n",
    "    neighborhoods_venues_sorted.iloc[ind, 1:] = return_most_common_venues(\n",
    "        toronto_grouped.iloc[ind, :], num_top_venues)\n",
    "\n",
    "neighborhoods_venues_sorted"
   ]
  },
  {
   "cell_type": "markdown",
   "metadata": {},
   "source": [
    "### Cluster the Toronto Neighborhoods"
   ]
  },
  {
   "cell_type": "markdown",
   "metadata": {},
   "source": [
    "We will run k-means and cluster the neighborhoods into 5 clusters."
   ]
  },
  {
   "cell_type": "code",
   "execution_count": 43,
   "metadata": {},
   "outputs": [
    {
     "ename": "NameError",
     "evalue": "name 'toronto_grouped' is not defined",
     "output_type": "error",
     "traceback": [
      "\u001b[0;31m---------------------------------------------------------------------------\u001b[0m",
      "\u001b[0;31mNameError\u001b[0m                                 Traceback (most recent call last)",
      "\u001b[0;32m<ipython-input-43-3390c8aa8c4d>\u001b[0m in \u001b[0;36m<module>\u001b[0;34m()\u001b[0m\n\u001b[1;32m      1\u001b[0m \u001b[0mk\u001b[0m \u001b[0;34m=\u001b[0m \u001b[0;36m5\u001b[0m\u001b[0;34m\u001b[0m\u001b[0m\n\u001b[1;32m      2\u001b[0m \u001b[0;34m\u001b[0m\u001b[0m\n\u001b[0;32m----> 3\u001b[0;31m \u001b[0mtoronto_grouped_clustering\u001b[0m \u001b[0;34m=\u001b[0m \u001b[0mtoronto_grouped\u001b[0m\u001b[0;34m.\u001b[0m\u001b[0mdrop\u001b[0m\u001b[0;34m(\u001b[0m\u001b[0;34m'NeighborhoodName'\u001b[0m\u001b[0;34m,\u001b[0m \u001b[0;36m1\u001b[0m\u001b[0;34m)\u001b[0m\u001b[0;34m\u001b[0m\u001b[0m\n\u001b[0m\u001b[1;32m      4\u001b[0m \u001b[0;34m\u001b[0m\u001b[0m\n\u001b[1;32m      5\u001b[0m \u001b[0mkmeans\u001b[0m \u001b[0;34m=\u001b[0m \u001b[0mKMeans\u001b[0m\u001b[0;34m(\u001b[0m\u001b[0mn_clusters\u001b[0m\u001b[0;34m=\u001b[0m\u001b[0mk\u001b[0m\u001b[0;34m,\u001b[0m \u001b[0mrandom_state\u001b[0m\u001b[0;34m=\u001b[0m\u001b[0;36m0\u001b[0m\u001b[0;34m)\u001b[0m\u001b[0;34m.\u001b[0m\u001b[0mfit\u001b[0m\u001b[0;34m(\u001b[0m\u001b[0mtoronto_grouped_clustering\u001b[0m\u001b[0;34m)\u001b[0m\u001b[0;34m\u001b[0m\u001b[0m\n",
      "\u001b[0;31mNameError\u001b[0m: name 'toronto_grouped' is not defined"
     ]
    }
   ],
   "source": [
    "k = 5\n",
    "\n",
    "toronto_grouped_clustering = toronto_grouped.drop('NeighborhoodName', 1)\n",
    "\n",
    "kmeans = KMeans(n_clusters=k, random_state=0).fit(toronto_grouped_clustering)\n",
    "kmeans.labels_[0:10]"
   ]
  },
  {
   "cell_type": "markdown",
   "metadata": {},
   "source": [
    "Now we will create a dataframe with the neighborhood information, top 10 common venues as well as the cluster labels."
   ]
  },
  {
   "cell_type": "code",
   "execution_count": 44,
   "metadata": {},
   "outputs": [
    {
     "ename": "NameError",
     "evalue": "name 'kmeans' is not defined",
     "output_type": "error",
     "traceback": [
      "\u001b[0;31m---------------------------------------------------------------------------\u001b[0m",
      "\u001b[0;31mNameError\u001b[0m                                 Traceback (most recent call last)",
      "\u001b[0;32m<ipython-input-44-216cad81938e>\u001b[0m in \u001b[0;36m<module>\u001b[0;34m()\u001b[0m\n\u001b[0;32m----> 1\u001b[0;31m \u001b[0mneighborhoods_venues_sorted\u001b[0m\u001b[0;34m.\u001b[0m\u001b[0minsert\u001b[0m\u001b[0;34m(\u001b[0m\u001b[0;36m0\u001b[0m\u001b[0;34m,\u001b[0m \u001b[0;34m'Cluster Labels'\u001b[0m\u001b[0;34m,\u001b[0m \u001b[0mkmeans\u001b[0m\u001b[0;34m.\u001b[0m\u001b[0mlabels_\u001b[0m\u001b[0;34m)\u001b[0m\u001b[0;34m\u001b[0m\u001b[0m\n\u001b[0m\u001b[1;32m      2\u001b[0m \u001b[0;34m\u001b[0m\u001b[0m\n\u001b[1;32m      3\u001b[0m \u001b[0mtoronto_merged\u001b[0m \u001b[0;34m=\u001b[0m \u001b[0mtoronto_data\u001b[0m\u001b[0;34m\u001b[0m\u001b[0m\n\u001b[1;32m      4\u001b[0m \u001b[0;34m\u001b[0m\u001b[0m\n\u001b[1;32m      5\u001b[0m \u001b[0mtoronto_merged\u001b[0m \u001b[0;34m=\u001b[0m \u001b[0mtoronto_merged\u001b[0m\u001b[0;34m.\u001b[0m\u001b[0mjoin\u001b[0m\u001b[0;34m(\u001b[0m\u001b[0mneighborhoods_venues_sorted\u001b[0m\u001b[0;34m.\u001b[0m\u001b[0mset_index\u001b[0m\u001b[0;34m(\u001b[0m\u001b[0;34m'Neighborhood'\u001b[0m\u001b[0;34m)\u001b[0m\u001b[0;34m,\u001b[0m \u001b[0mon\u001b[0m\u001b[0;34m=\u001b[0m\u001b[0;34m'Neighborhood'\u001b[0m\u001b[0;34m)\u001b[0m\u001b[0;34m\u001b[0m\u001b[0m\n",
      "\u001b[0;31mNameError\u001b[0m: name 'kmeans' is not defined"
     ]
    }
   ],
   "source": [
    "neighborhoods_venues_sorted.insert(0, 'Cluster Labels', kmeans.labels_)\n",
    "\n",
    "toronto_merged = toronto_data\n",
    "\n",
    "toronto_merged = toronto_merged.join(neighborhoods_venues_sorted.set_index('Neighborhood'), on='Neighborhood')\n",
    "\n",
    "print(toronto_merged.shape)\n",
    "toronto_merged.head()"
   ]
  },
  {
   "cell_type": "markdown",
   "metadata": {},
   "source": [
    "### Visualize the clusters"
   ]
  },
  {
   "cell_type": "code",
   "execution_count": 45,
   "metadata": {},
   "outputs": [
    {
     "ename": "NameError",
     "evalue": "name 'toronto_merged' is not defined",
     "output_type": "error",
     "traceback": [
      "\u001b[0;31m---------------------------------------------------------------------------\u001b[0m",
      "\u001b[0;31mNameError\u001b[0m                                 Traceback (most recent call last)",
      "\u001b[0;32m<ipython-input-45-0e75b3ec50e2>\u001b[0m in \u001b[0;36m<module>\u001b[0;34m()\u001b[0m\n\u001b[1;32m     10\u001b[0m \u001b[0mmarkers_colors\u001b[0m \u001b[0;34m=\u001b[0m \u001b[0;34m[\u001b[0m\u001b[0;34m]\u001b[0m\u001b[0;34m\u001b[0m\u001b[0m\n\u001b[1;32m     11\u001b[0m for lat, lon, poi, cluster in zip(\n\u001b[0;32m---> 12\u001b[0;31m         \u001b[0mtoronto_merged\u001b[0m\u001b[0;34m[\u001b[0m\u001b[0;34m'Latitude'\u001b[0m\u001b[0;34m]\u001b[0m\u001b[0;34m,\u001b[0m \u001b[0mtoronto_merged\u001b[0m\u001b[0;34m[\u001b[0m\u001b[0;34m'Longitude'\u001b[0m\u001b[0;34m]\u001b[0m\u001b[0;34m,\u001b[0m\u001b[0;34m\u001b[0m\u001b[0m\n\u001b[0m\u001b[1;32m     13\u001b[0m         toronto_merged['Neighborhood'], toronto_merged['Cluster Labels']):\n\u001b[1;32m     14\u001b[0m     \u001b[0mlabel\u001b[0m \u001b[0;34m=\u001b[0m \u001b[0mfolium\u001b[0m\u001b[0;34m.\u001b[0m\u001b[0mPopup\u001b[0m\u001b[0;34m(\u001b[0m\u001b[0mstr\u001b[0m\u001b[0;34m(\u001b[0m\u001b[0mpoi\u001b[0m\u001b[0;34m)\u001b[0m \u001b[0;34m+\u001b[0m \u001b[0;34m' Cluster '\u001b[0m \u001b[0;34m+\u001b[0m \u001b[0mstr\u001b[0m\u001b[0;34m(\u001b[0m\u001b[0mcluster\u001b[0m\u001b[0;34m)\u001b[0m\u001b[0;34m,\u001b[0m \u001b[0mparse_html\u001b[0m\u001b[0;34m=\u001b[0m\u001b[0;32mTrue\u001b[0m\u001b[0;34m)\u001b[0m\u001b[0;34m\u001b[0m\u001b[0m\n",
      "\u001b[0;31mNameError\u001b[0m: name 'toronto_merged' is not defined"
     ]
    }
   ],
   "source": [
    "map_toronto = folium.Map(\n",
    "    location=[location.latitude, location.longitude],\n",
    "    zoom_start=11)\n",
    "\n",
    "x = np.arange(k)\n",
    "ys = [i + x + (i*x)**2 for i in range(k)]\n",
    "colors_array = cm.rainbow(np.linspace(0, 1, len(ys)))\n",
    "rainbow = [colors.rgb2hex(i) for i in colors_array]\n",
    "\n",
    "markers_colors = []\n",
    "for lat, lon, poi, cluster in zip(\n",
    "        toronto_merged['Latitude'], toronto_merged['Longitude'],\n",
    "        toronto_merged['Neighborhood'], toronto_merged['Cluster Labels']):\n",
    "    label = folium.Popup(str(poi) + ' Cluster ' + str(cluster), parse_html=True)\n",
    "    folium.CircleMarker(\n",
    "        [lat, lon],\n",
    "        radius=5,\n",
    "        popup=label,\n",
    "        color=rainbow[cluster-1],\n",
    "        fill=True,\n",
    "        fill_color=rainbow[cluster-1],\n",
    "        fill_opacity=0.7).add_to(map_toronto)\n",
    "       \n",
    "map_toronto"
   ]
  },
  {
   "cell_type": "markdown",
   "metadata": {},
   "source": [
    "### Examine the clusters"
   ]
  },
  {
   "cell_type": "markdown",
   "metadata": {},
   "source": [
    "Now let us examine the clusters and see how they differ from each other in terms of popular venues."
   ]
  },
  {
   "cell_type": "markdown",
   "metadata": {},
   "source": [
    "#### Cluster 0"
   ]
  },
  {
   "cell_type": "code",
   "execution_count": 46,
   "metadata": {},
   "outputs": [
    {
     "ename": "NameError",
     "evalue": "name 'toronto_merged' is not defined",
     "output_type": "error",
     "traceback": [
      "\u001b[0;31m---------------------------------------------------------------------------\u001b[0m",
      "\u001b[0;31mNameError\u001b[0m                                 Traceback (most recent call last)",
      "\u001b[0;32m<ipython-input-46-a32281344f16>\u001b[0m in \u001b[0;36m<module>\u001b[0;34m()\u001b[0m\n\u001b[0;32m----> 1\u001b[0;31m cluster_0 = toronto_merged.loc[toronto_merged['Cluster Labels'] == 0,\n\u001b[0m\u001b[1;32m      2\u001b[0m                                toronto_merged.columns[\n\u001b[1;32m      3\u001b[0m                                    [2] + list(range(\n\u001b[1;32m      4\u001b[0m                                        5, toronto_merged.shape[1]))]]\n\u001b[1;32m      5\u001b[0m \u001b[0mcluster_0\u001b[0m\u001b[0;34m\u001b[0m\u001b[0m\n",
      "\u001b[0;31mNameError\u001b[0m: name 'toronto_merged' is not defined"
     ]
    }
   ],
   "source": [
    "cluster_0 = toronto_merged.loc[toronto_merged['Cluster Labels'] == 0,\n",
    "                               toronto_merged.columns[\n",
    "                                   [2] + list(range(\n",
    "                                       5, toronto_merged.shape[1]))]]\n",
    "cluster_0"
   ]
  },
  {
   "cell_type": "code",
   "execution_count": 47,
   "metadata": {},
   "outputs": [
    {
     "ename": "NameError",
     "evalue": "name 'cluster_0' is not defined",
     "output_type": "error",
     "traceback": [
      "\u001b[0;31m---------------------------------------------------------------------------\u001b[0m",
      "\u001b[0;31mNameError\u001b[0m                                 Traceback (most recent call last)",
      "\u001b[0;32m<ipython-input-47-ba57b0f64122>\u001b[0m in \u001b[0;36m<module>\u001b[0;34m()\u001b[0m\n\u001b[0;32m----> 1\u001b[0;31m \u001b[0mprint\u001b[0m\u001b[0;34m(\u001b[0m\u001b[0mcluster_0\u001b[0m\u001b[0;34m.\u001b[0m\u001b[0mshape\u001b[0m\u001b[0;34m)\u001b[0m\u001b[0;34m\u001b[0m\u001b[0m\n\u001b[0m",
      "\u001b[0;31mNameError\u001b[0m: name 'cluster_0' is not defined"
     ]
    }
   ],
   "source": [
    "print(cluster_0.shape)"
   ]
  },
  {
   "cell_type": "markdown",
   "metadata": {},
   "source": [
    "#### Cluster 1"
   ]
  },
  {
   "cell_type": "code",
   "execution_count": 48,
   "metadata": {},
   "outputs": [
    {
     "ename": "NameError",
     "evalue": "name 'toronto_merged' is not defined",
     "output_type": "error",
     "traceback": [
      "\u001b[0;31m---------------------------------------------------------------------------\u001b[0m",
      "\u001b[0;31mNameError\u001b[0m                                 Traceback (most recent call last)",
      "\u001b[0;32m<ipython-input-48-26a5ba87bf6c>\u001b[0m in \u001b[0;36m<module>\u001b[0;34m()\u001b[0m\n\u001b[0;32m----> 1\u001b[0;31m toronto_merged.loc[toronto_merged['Cluster Labels'] == 1,\n\u001b[0m\u001b[1;32m      2\u001b[0m                    toronto_merged.columns[\n\u001b[1;32m      3\u001b[0m                        [2] + list(range(5, toronto_merged.shape[1]))]]\n",
      "\u001b[0;31mNameError\u001b[0m: name 'toronto_merged' is not defined"
     ]
    }
   ],
   "source": [
    "toronto_merged.loc[toronto_merged['Cluster Labels'] == 1,\n",
    "                   toronto_merged.columns[\n",
    "                       [2] + list(range(5, toronto_merged.shape[1]))]]"
   ]
  },
  {
   "cell_type": "markdown",
   "metadata": {},
   "source": [
    "#### Cluster 2"
   ]
  },
  {
   "cell_type": "code",
   "execution_count": 49,
   "metadata": {},
   "outputs": [
    {
     "ename": "NameError",
     "evalue": "name 'toronto_merged' is not defined",
     "output_type": "error",
     "traceback": [
      "\u001b[0;31m---------------------------------------------------------------------------\u001b[0m",
      "\u001b[0;31mNameError\u001b[0m                                 Traceback (most recent call last)",
      "\u001b[0;32m<ipython-input-49-e55b02984de5>\u001b[0m in \u001b[0;36m<module>\u001b[0;34m()\u001b[0m\n\u001b[0;32m----> 1\u001b[0;31m toronto_merged.loc[toronto_merged['Cluster Labels'] == 2,\n\u001b[0m\u001b[1;32m      2\u001b[0m                    toronto_merged.columns[\n\u001b[1;32m      3\u001b[0m                        [2] + list(range(5, toronto_merged.shape[1]))]]\n",
      "\u001b[0;31mNameError\u001b[0m: name 'toronto_merged' is not defined"
     ]
    }
   ],
   "source": [
    "toronto_merged.loc[toronto_merged['Cluster Labels'] == 2,\n",
    "                   toronto_merged.columns[\n",
    "                       [2] + list(range(5, toronto_merged.shape[1]))]]"
   ]
  },
  {
   "cell_type": "markdown",
   "metadata": {},
   "source": [
    "#### Cluster 3"
   ]
  },
  {
   "cell_type": "code",
   "execution_count": 50,
   "metadata": {},
   "outputs": [
    {
     "ename": "NameError",
     "evalue": "name 'toronto_merged' is not defined",
     "output_type": "error",
     "traceback": [
      "\u001b[0;31m---------------------------------------------------------------------------\u001b[0m",
      "\u001b[0;31mNameError\u001b[0m                                 Traceback (most recent call last)",
      "\u001b[0;32m<ipython-input-50-7245e409d596>\u001b[0m in \u001b[0;36m<module>\u001b[0;34m()\u001b[0m\n\u001b[0;32m----> 1\u001b[0;31m toronto_merged.loc[toronto_merged['Cluster Labels'] == 3,\n\u001b[0m\u001b[1;32m      2\u001b[0m                    toronto_merged.columns[\n\u001b[1;32m      3\u001b[0m                        [2] + list(range(5, toronto_merged.shape[1]))]]\n",
      "\u001b[0;31mNameError\u001b[0m: name 'toronto_merged' is not defined"
     ]
    }
   ],
   "source": [
    "toronto_merged.loc[toronto_merged['Cluster Labels'] == 3,\n",
    "                   toronto_merged.columns[\n",
    "                       [2] + list(range(5, toronto_merged.shape[1]))]]"
   ]
  },
  {
   "cell_type": "markdown",
   "metadata": {},
   "source": [
    "#### Cluster 4"
   ]
  },
  {
   "cell_type": "code",
   "execution_count": 53,
   "metadata": {},
   "outputs": [
    {
     "ename": "NameError",
     "evalue": "name 'toronto_merged' is not defined",
     "output_type": "error",
     "traceback": [
      "\u001b[0;31m---------------------------------------------------------------------------\u001b[0m",
      "\u001b[0;31mNameError\u001b[0m                                 Traceback (most recent call last)",
      "\u001b[0;32m<ipython-input-53-ff79077248c4>\u001b[0m in \u001b[0;36m<module>\u001b[0;34m()\u001b[0m\n\u001b[0;32m----> 1\u001b[0;31m toronto_merged.loc[toronto_merged['Cluster Labels'] == 4,\n\u001b[0m\u001b[1;32m      2\u001b[0m                    toronto_merged.columns[\n\u001b[1;32m      3\u001b[0m                        [2] + list(range(5, toronto_merged.shape[1]))]]\n",
      "\u001b[0;31mNameError\u001b[0m: name 'toronto_merged' is not defined"
     ]
    }
   ],
   "source": [
    "toronto_merged.loc[toronto_merged['Cluster Labels'] == 4,\n",
    "                   toronto_merged.columns[\n",
    "                       [2] + list(range(5, toronto_merged.shape[1]))]]"
   ]
  },
  {
   "cell_type": "markdown",
   "metadata": {},
   "source": [
    "### Insights:"
   ]
  },
  {
   "cell_type": "markdown",
   "metadata": {},
   "source": [
    "There are 32 neighborhoods in the first cluster! It appears that coffee shops and cafes are very popular in the neighborhoods in this cluster and in general in Toronto!  \n",
    "The rest of the clusters are much smaller and coffee shops are not that common in those.  \n",
    "Out of the 5 clusters, 3 have only 1 neighborhood in them. These are the most distinct neighborhoods of all.  \n",
    "Cluster 4, which is the last cluster seems to be more suitable for outdoor activities with parks, trails, playgrounds, etc. amongst the top 10."
   ]
  },
  {
   "cell_type": "code",
   "execution_count": null,
   "metadata": {},
   "outputs": [],
   "source": []
  }
 ],
 "metadata": {
  "kernelspec": {
   "display_name": "Python 3",
   "language": "python",
   "name": "python3"
  },
  "language_info": {
   "codemirror_mode": {
    "name": "ipython",
    "version": 3
   },
   "file_extension": ".py",
   "mimetype": "text/x-python",
   "name": "python",
   "nbconvert_exporter": "python",
   "pygments_lexer": "ipython3",
   "version": "3.6.5"
  }
 },
 "nbformat": 4,
 "nbformat_minor": 2
}
